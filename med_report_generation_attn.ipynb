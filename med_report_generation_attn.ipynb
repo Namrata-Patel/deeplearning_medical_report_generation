{
 "cells": [
  {
   "cell_type": "markdown",
   "metadata": {},
   "source": [
    "# MediXGen: AI-Powered Medical Report Generation from X-Rays"
   ]
  },
  {
   "cell_type": "markdown",
   "metadata": {},
   "source": [
    "## Import Libraries"
   ]
  },
  {
   "cell_type": "code",
   "execution_count": 116,
   "metadata": {},
   "outputs": [],
   "source": [
    "import torch\n",
    "import torch.nn as nn\n",
    "import torchvision.models as models\n",
    "import h5py\n",
    "import time\n",
    "from tqdm import tqdm\n",
    "import torch.optim as optim\n",
    "from torch.utils.data import Dataset, DataLoader\n",
    "import pandas as pd\n",
    "import numpy as np\n",
    "import pickle\n",
    "import re\n",
    "from collections import Counter\n",
    "from torch.nn.utils.rnn import pad_sequence\n",
    "from torchvision.models import densenet121\n",
    "from rouge_score import rouge_scorer\n",
    "from sklearn.metrics import precision_score, recall_score, f1_score\n",
    "from nltk.translate.bleu_score import sentence_bleu\n",
    "import torch\n",
    "from torch.utils.data import Dataset, DataLoader\n",
    "from torchvision import transforms\n",
    "from PIL import Image\n",
    "import os\n"
   ]
  },
  {
   "cell_type": "markdown",
   "metadata": {},
   "source": [
    "## Feature Extraction using ChexNet Pretrained Weights"
   ]
  },
  {
   "cell_type": "code",
   "execution_count": 117,
   "metadata": {},
   "outputs": [
    {
     "name": "stdout",
     "output_type": "stream",
     "text": [
      "Weights loaded successfully into PyTorch DenseNet-121 model.\n"
     ]
    }
   ],
   "source": [
    "# Load Pretrained DenseNet-121 from PyTorch\n",
    "densenet = models.densenet121(weights=None)\n",
    "state_dict = densenet.state_dict()\n",
    "\n",
    "# Load the Keras Weights from .h5 File\n",
    "keras_weights_path = 'brucechou1983_CheXNet_Keras_0.3.0_weights.h5'\n",
    "with h5py.File(keras_weights_path, 'r') as f:\n",
    "    keras_weights = {k: np.array(v) for k, v in f.items()}\n",
    "\n",
    "# Map Keras Weights to PyTorch Model\n",
    "def load_weights(state_dict, keras_weights):\n",
    "    for key in keras_weights.keys():\n",
    "        if 'kernel' in key or 'bias' in key:  # Identify weight types\n",
    "            pytorch_key = key.replace('kernel', 'weight').replace('bias', 'bias')\n",
    "            pytorch_key = pytorch_key.replace('/', '.')  # Adjust naming format\n",
    "            \n",
    "            if pytorch_key in state_dict:\n",
    "                weight = torch.tensor(keras_weights[key])\n",
    "                if len(weight.shape) == 4:  # For Conv weights\n",
    "                    weight = weight.permute(3, 2, 0, 1)\n",
    "                state_dict[pytorch_key] = weight\n",
    "    return state_dict\n",
    "\n",
    "# Apply Weights to PyTorch DenseNet\n",
    "state_dict = load_weights(state_dict, keras_weights)\n",
    "densenet.load_state_dict(state_dict)\n",
    "\n",
    "print(\"Weights loaded successfully into PyTorch DenseNet-121 model.\")\n",
    "\n",
    "# Step 4: Use DenseNet-121 as a Feature Extractor\n",
    "class CheXNetFeatureExtractor(nn.Module):\n",
    "    def __init__(self, densenet):\n",
    "        super(CheXNetFeatureExtractor, self).__init__()\n",
    "        self.features = densenet.features\n",
    "        self.global_avg_pool = nn.AdaptiveAvgPool2d((1, 1))  # Global Average Pooling\n",
    "    \n",
    "    def forward(self, x):\n",
    "        x = self.features(x)\n",
    "        x = self.global_avg_pool(x)\n",
    "        x = torch.flatten(x, 1)\n",
    "        return x\n",
    "\n",
    "# Instantiate Feature Extractor\n",
    "chexnet = CheXNetFeatureExtractor(densenet)\n"
   ]
  },
  {
   "cell_type": "code",
   "execution_count": 118,
   "metadata": {},
   "outputs": [
    {
     "name": "stdout",
     "output_type": "stream",
     "text": [
      "Feature Vector Shape: torch.Size([1, 1024])\n"
     ]
    }
   ],
   "source": [
    "# Testing of loaded model\n",
    "input_tensor = torch.randn(1, 3, 224, 224)\n",
    "output = chexnet(input_tensor)\n",
    "print(\"Feature Vector Shape:\", output.shape)  # Should be [1, 1024]"
   ]
  },
  {
   "cell_type": "code",
   "execution_count": 119,
   "metadata": {},
   "outputs": [
    {
     "name": "stdout",
     "output_type": "stream",
     "text": [
      "Vocabulary Size: 1429\n"
     ]
    }
   ],
   "source": [
    "# Load Dataset\n",
    "train_dataset = pd.read_csv('Train_Data.csv')\n",
    "valid_dataset = pd.read_csv('CV_Data.csv')\n",
    "test_dataset = pd.read_csv('Test_Data.csv')\n",
    "\n",
    "# Tokenize and Clean Text\n",
    "def clean_text(text):\n",
    "    text = text.lower()\n",
    "    text = re.sub(r\"[^a-z0-9\\s]\", \"\", text)\n",
    "    return text\n",
    "\n",
    "# Build Vocabulary\n",
    "def build_vocab(texts, min_freq=1):\n",
    "    counter = Counter()\n",
    "    for text in texts:\n",
    "        counter.update(clean_text(text).split())\n",
    "\n",
    "    vocab = {\"<PAD>\": 0, \"<START>\": 1, \"<END>\": 2, \"<UNK>\": 3}\n",
    "    for word, freq in counter.items():\n",
    "        if freq >= min_freq:\n",
    "            vocab[word] = len(vocab)\n",
    "    return vocab\n",
    "\n",
    "# Create Vocabulary\n",
    "vocab = build_vocab(train_dataset['Report'].values)\n",
    "vocab_size = len(vocab)\n",
    "print(\"Vocabulary Size:\", vocab_size)\n",
    "\n",
    "# Text to Sequence\n",
    "def text_to_sequence(text, vocab):\n",
    "    tokens = clean_text(text).split()\n",
    "    return [vocab.get(\"<START>\")] + [vocab.get(token, vocab[\"<UNK>\"]) for token in tokens] + [vocab.get(\"<END>\")]\n"
   ]
  },
  {
   "cell_type": "markdown",
   "metadata": {},
   "source": [
    "## Custom Tokenizer "
   ]
  },
  {
   "cell_type": "code",
   "execution_count": 120,
   "metadata": {},
   "outputs": [],
   "source": [
    "import re\n",
    "from collections import Counter\n",
    "\n",
    "class CustomTokenizer:\n",
    "    def __init__(self, min_freq=1, special_tokens=[\"<PAD>\", \"<START>\", \"<END>\", \"<UNK>\"]):\n",
    "        \"\"\"\n",
    "        A custom tokenizer for converting text to token sequences and vice versa.\n",
    "        \n",
    "        Args:\n",
    "            min_freq (int): Minimum frequency for a word to be included in the vocabulary.\n",
    "            special_tokens (list): List of special tokens like <PAD>, <START>, etc.\n",
    "        \"\"\"\n",
    "        self.word_index = {}  # Word to index mapping\n",
    "        self.index_word = {}  # Index to word mapping\n",
    "        self.min_freq = min_freq\n",
    "        self.special_tokens = special_tokens\n",
    "        self.word_counter = Counter()\n",
    "\n",
    "        # Initialize special tokens\n",
    "        for idx, token in enumerate(self.special_tokens):\n",
    "            self.word_index[token] = idx\n",
    "            self.index_word[idx] = token\n",
    "\n",
    "    def fit_on_texts(self, texts):\n",
    "        \"\"\"\n",
    "        Fit the tokenizer on a list of text data to build the vocabulary.\n",
    "        \n",
    "        Args:\n",
    "            texts (list of str): List of text sequences.\n",
    "        \"\"\"\n",
    "        # Count word frequencies\n",
    "        for text in texts:\n",
    "            tokens = self._clean_and_tokenize(text)\n",
    "            self.word_counter.update(tokens)\n",
    "        \n",
    "        # Add words to the vocabulary if they meet the min_freq criteria\n",
    "        for word, freq in self.word_counter.items():\n",
    "            if freq >= self.min_freq and word not in self.word_index:\n",
    "                idx = len(self.word_index)\n",
    "                self.word_index[word] = idx\n",
    "                self.index_word[idx] = word\n",
    "\n",
    "    def texts_to_sequences(self, texts):\n",
    "        \"\"\"\n",
    "        Convert a list of texts to sequences of word indices.\n",
    "        \n",
    "        Args:\n",
    "            texts (list of str): List of text sequences.\n",
    "        \n",
    "        Returns:\n",
    "            list of list of int: List of token index sequences.\n",
    "        \"\"\"\n",
    "        sequences = []\n",
    "        for text in texts:\n",
    "            tokens = self._clean_and_tokenize(text)\n",
    "            sequence = [self.word_index.get(token, self.word_index[\"<UNK>\"]) for token in tokens]\n",
    "            sequences.append(sequence)\n",
    "        return sequences\n",
    "\n",
    "    def sequences_to_texts(self, sequences):\n",
    "        \"\"\"\n",
    "        Convert a list of sequences of word indices back to text.\n",
    "        \n",
    "        Args:\n",
    "            sequences (list of list of int): List of token index sequences.\n",
    "        \n",
    "        Returns:\n",
    "            list of str: List of text sequences.\n",
    "        \"\"\"\n",
    "        texts = []\n",
    "        for seq in sequences:\n",
    "            text = \" \".join([self.index_word.get(idx, \"<UNK>\") for idx in seq if idx != self.word_index[\"<PAD>\"]])\n",
    "            texts.append(text)\n",
    "        return texts\n",
    "\n",
    "    def _clean_and_tokenize(self, text):\n",
    "        \"\"\"\n",
    "        Clean and tokenize text into a list of words.\n",
    "        \n",
    "        Args:\n",
    "            text (str): Input text string.\n",
    "        \n",
    "        Returns:\n",
    "            list of str: List of tokens.\n",
    "        \"\"\"\n",
    "        text = text.lower()\n",
    "        text = re.sub(r\"[^a-z0-9\\s]\", \"\", text)  # Remove special characters\n",
    "        return text.split()\n",
    "\n",
    "    def __call__(self, text):\n",
    "        \"\"\"\n",
    "        Makes the tokenizer callable for a single text input.\n",
    "        \n",
    "        Args:\n",
    "            text (str): A single text sequence.\n",
    "        \n",
    "        Returns:\n",
    "            list of int: Token index sequence.\n",
    "        \"\"\"\n",
    "        tokens = self._clean_and_tokenize(text)\n",
    "        return [self.word_index.get(token, self.word_index[\"<UNK>\"]) for token in tokens]"
   ]
  },
  {
   "cell_type": "code",
   "execution_count": 121,
   "metadata": {},
   "outputs": [],
   "source": [
    "# Initialize and Fit Tokenizer\n",
    "tokenizer = CustomTokenizer()\n",
    "\n",
    "# Concatenate all reports into a single list\n",
    "all_reports = pd.concat([\n",
    "    train_dataset['Report'],\n",
    "    valid_dataset['Report'],\n",
    "    test_dataset['Report']\n",
    "]).values.tolist()\n",
    "\n",
    "# Fit the tokenizer on all reports\n",
    "tokenizer.fit_on_texts(all_reports)\n"
   ]
  },
  {
   "cell_type": "code",
   "execution_count": 122,
   "metadata": {},
   "outputs": [
    {
     "data": {
      "text/plain": [
       "1599"
      ]
     },
     "execution_count": 122,
     "metadata": {},
     "output_type": "execute_result"
    }
   ],
   "source": [
    "vocab_size = len(tokenizer.word_index.keys()) + 1\n",
    "vocab_size"
   ]
  },
  {
   "cell_type": "code",
   "execution_count": 123,
   "metadata": {},
   "outputs": [],
   "source": [
    "device = torch.device(\"cuda\" if torch.cuda.is_available() else \"cpu\")"
   ]
  },
  {
   "cell_type": "markdown",
   "metadata": {},
   "source": [
    "## Generate Embeddings using  GloVe Vectors"
   ]
  },
  {
   "cell_type": "code",
   "execution_count": 124,
   "metadata": {},
   "outputs": [
    {
     "name": "stdout",
     "output_type": "stream",
     "text": [
      "Loaded 400000 words from GloVe.\n"
     ]
    }
   ],
   "source": [
    "# Path to GloVe file\n",
    "glove_path = 'glove.6B.300d.txt'\n",
    "\n",
    "# Load GloVe Vectors into a Dictionary\n",
    "def load_glove_vectors(glove_path):\n",
    "    glove_dict = {}\n",
    "    with open(glove_path, 'r', encoding='utf-8') as f:\n",
    "        for line in f:\n",
    "            values = line.strip().split()\n",
    "            word = values[0]\n",
    "            vector = np.asarray(values[1:], dtype='float32')\n",
    "            glove_dict[word] = vector\n",
    "    return glove_dict\n",
    "\n",
    "# Load GloVe\n",
    "glove_vectors = load_glove_vectors(glove_path)\n",
    "print(f\"Loaded {len(glove_vectors)} words from GloVe.\")"
   ]
  },
  {
   "cell_type": "code",
   "execution_count": 125,
   "metadata": {},
   "outputs": [],
   "source": [
    "embedding_matrix = np.zeros((vocab_size,300))\n",
    "for word, i in tokenizer.word_index.items():\n",
    "    if word in glove_vectors.keys():\n",
    "        vec = glove_vectors[word]\n",
    "        embedding_matrix[i] = vec\n",
    "    else:\n",
    "        continue"
   ]
  },
  {
   "cell_type": "markdown",
   "metadata": {},
   "source": [
    "## Custom DataSet For X-Rays"
   ]
  },
  {
   "cell_type": "code",
   "execution_count": 126,
   "metadata": {},
   "outputs": [],
   "source": [
    "class CheXNetReportDataset(Dataset):\n",
    "    def __init__(self, csv_file, root_dir, chexnet, tokenizer, transform=None, max_length=153):\n",
    "        \"\"\"\n",
    "        Args:\n",
    "            csv_file (str): Path to the CSV file containing Person_id and Report.\n",
    "            root_dir (str): Root directory containing the image files.\n",
    "            chexnet (CheXNetFeatureExtractor): Pretrained CheXNet feature extractor.\n",
    "            tokenizer (CustomTokenizer): Tokenizer for converting text to sequences.\n",
    "            transform: Image preprocessing transforms.\n",
    "            max_length (int): Maximum length of tokenized reports (padded/truncated).\n",
    "        \"\"\"\n",
    "        self.data = pd.read_csv(csv_file)\n",
    "        self.root_dir = root_dir\n",
    "        self.chexnet = chexnet\n",
    "        self.tokenizer = tokenizer\n",
    "        self.transform = transform\n",
    "        self.max_length = max_length\n",
    "\n",
    "    def __len__(self):\n",
    "        return len(self.data)\n",
    "\n",
    "    def pad_sequence(self, sequence):\n",
    "        \"\"\"Pad or truncate a tokenized sequence to the maximum length.\"\"\"\n",
    "        if len(sequence) < self.max_length:\n",
    "            sequence += [0] * (self.max_length - len(sequence))  # Pad with 0 (e.g., <PAD>)\n",
    "        else:\n",
    "            sequence = sequence[:self.max_length]\n",
    "        return sequence\n",
    "\n",
    "    def load_image(self, image_path):\n",
    "        \"\"\"Load and preprocess an image.\"\"\"\n",
    "        image = Image.open(image_path).convert(\"RGB\")\n",
    "        \n",
    "        if self.transform:\n",
    "            image = self.transform(image)\n",
    "        return image\n",
    "\n",
    "    def __getitem__(self, idx):\n",
    "        person_id = self.data.iloc[idx][\"Person_id\"]\n",
    "        report = self.data.iloc[idx][\"Report\"]\n",
    "        image_path = os.path.join(self.root_dir, self.data.iloc[idx][\"Image1\"])\n",
    "        image = self.load_image(image_path)\n",
    "\n",
    "        # Extract features using CheXNet\n",
    "        with torch.no_grad():\n",
    "            img_feature = self.chexnet(image.unsqueeze(0)).squeeze(0)\n",
    "\n",
    "        # Tokenize and pad the report\n",
    "        tokenized_report = self.tokenizer(report)\n",
    "        padded_report = self.pad_sequence(tokenized_report)\n",
    "\n",
    "        # Calculate caption lengths\n",
    "        length = min(len(tokenized_report), self.max_length)\n",
    "\n",
    "        return img_feature, torch.tensor(padded_report, dtype=torch.long), torch.tensor(tokenized_report, dtype=torch.long), length\n",
    "\n"
   ]
  },
  {
   "cell_type": "code",
   "execution_count": 127,
   "metadata": {},
   "outputs": [
    {
     "name": "stdout",
     "output_type": "stream",
     "text": [
      "Number of samples in the training dataset: 2758\n",
      "Number of samples in the validation dataset: 550\n",
      "Number of samples in the test dataset: 399\n",
      "Number of batches in the training DataLoader: 87\n",
      "Number of batches in the validation DataLoader: 18\n",
      "Number of batches in the test DataLoader: 13\n"
     ]
    }
   ],
   "source": [
    "BATCH_SIZE=32\n",
    "EPOCHS = 20\n",
    "\n",
    "# Image preprocessing transforms for CheXNet feature extraction\n",
    "image_transform = transforms.Compose([\n",
    "    transforms.Resize((224, 224)),\n",
    "    transforms.ToTensor(),\n",
    "    transforms.Normalize(mean=[0.485, 0.456, 0.406], std=[0.229, 0.224, 0.225])\n",
    "])\n",
    "\n",
    "# DataLoader Function\n",
    "def create_dataloader(dataset, batch_size, shuffle=True):\n",
    "    return DataLoader(dataset, batch_size=batch_size, shuffle=shuffle, num_workers=2,pin_memory=True)\n",
    "\n",
    "root_dir = \"NLMCXR/images\"\n",
    "# Assuming chexnet is a preloaded dictionary and tokenizer is initialized\n",
    "dataset_train = CheXNetReportDataset(\"Train_Data.csv\",root_dir,chexnet=chexnet,tokenizer=tokenizer,transform=image_transform)\n",
    "dataset_test = CheXNetReportDataset(\"Test_Data.csv\",root_dir,chexnet=chexnet,tokenizer=tokenizer,transform=image_transform)\n",
    "dataset_valid = CheXNetReportDataset(\"CV_Data.csv\",root_dir,chexnet=chexnet,tokenizer=tokenizer,transform=image_transform)\n",
    "\n",
    "data_loader_train = create_dataloader(dataset_train, BATCH_SIZE)\n",
    "data_loader_test = create_dataloader(dataset_test, BATCH_SIZE)\n",
    "data_loader_valid = create_dataloader(dataset_valid, BATCH_SIZE)\n",
    "\n",
    "# Print number of samples in each dataset\n",
    "print(f\"Number of samples in the training dataset: {len(dataset_train)}\")\n",
    "print(f\"Number of samples in the validation dataset: {len(dataset_valid)}\")\n",
    "print(f\"Number of samples in the test dataset: {len(dataset_test)}\")\n",
    "\n",
    "# Print number of batches in each DataLoader\n",
    "print(f\"Number of batches in the training DataLoader: {len(data_loader_train)}\")\n",
    "print(f\"Number of batches in the validation DataLoader: {len(data_loader_valid)}\")\n",
    "print(f\"Number of batches in the test DataLoader: {len(data_loader_test)}\")\n"
   ]
  },
  {
   "cell_type": "code",
   "execution_count": 12,
   "metadata": {},
   "outputs": [
    {
     "data": {
      "text/plain": [
       "'encoder_decoder_epoch_final_20241219_231215.pth'"
      ]
     },
     "execution_count": 12,
     "metadata": {},
     "output_type": "execute_result"
    }
   ],
   "source": [
    "from datetime import datetime\n",
    "# Get the current timestamp\n",
    "current_timestamp = datetime.now()\n",
    "# Format the timestamp without spaces or dashes (e.g., YYYYMMDD_HHMMSS)\n",
    "formatted_timestamp = current_timestamp.strftime(\"%Y%m%d_%H%M%S\")\n",
    "formatted_timestamp\n",
    "\n",
    "model_name = f'encoder_decoder_epoch_final_{formatted_timestamp}.pth'\n",
    "model_name"
   ]
  },
  {
   "cell_type": "code",
   "execution_count": 128,
   "metadata": {},
   "outputs": [],
   "source": [
    "max_seq_len = 153 "
   ]
  },
  {
   "cell_type": "markdown",
   "metadata": {},
   "source": [
    "## Model"
   ]
  },
  {
   "cell_type": "code",
   "execution_count": 185,
   "metadata": {},
   "outputs": [],
   "source": [
    "class Attention(nn.Module):\n",
    "    def __init__(self, encoder_dim, decoder_dim, attention_dim):\n",
    "        \"\"\"\n",
    "        Args:\n",
    "            encoder_dim: Feature dimension of the encoder (image branch).\n",
    "            decoder_dim: Hidden dimension of the decoder (LSTM hidden state).\n",
    "            attention_dim: Dimension of the attention layer.\n",
    "        \"\"\"\n",
    "        super(Attention, self).__init__()\n",
    "        self.encoder_att = nn.Linear(encoder_dim, attention_dim)  # Encoder projection\n",
    "        self.decoder_att = nn.Linear(decoder_dim, attention_dim)  # Decoder projection\n",
    "        self.full_att = nn.Linear(attention_dim, 1)  # Scalar attention score\n",
    "        self.relu = nn.ReLU()\n",
    "        self.softmax = nn.Softmax(dim=1)  # Normalize scores\n",
    "\n",
    "    def forward(self, encoder_out, decoder_hidden):\n",
    "        \"\"\"\n",
    "        Forward pass for attention mechanism.\n",
    "        Args:\n",
    "            encoder_out: Features from the encoder (batch_size, seq_len, encoder_dim).\n",
    "            decoder_hidden: Hidden state from the decoder (batch_size, decoder_dim).\n",
    "        Returns:\n",
    "            context: Weighted sum of encoder outputs (batch_size, encoder_dim).\n",
    "            alpha: Attention weights (batch_size, seq_len).\n",
    "        \"\"\"\n",
    "        att1 = self.encoder_att(encoder_out)  # (batch_size, seq_len, attention_dim)\n",
    "        att2 = self.decoder_att(decoder_hidden).unsqueeze(1)  # (batch_size, 1, attention_dim)\n",
    "        att = self.full_att(self.relu(att1 + att2)).squeeze(2)  # (batch_size, seq_len)\n",
    "        alpha = self.softmax(att)  # Attention weights (batch_size, seq_len)\n",
    "        context = (encoder_out * alpha.unsqueeze(2)).sum(dim=1)  # Context vector (batch_size, encoder_dim)\n",
    "        return context, alpha\n",
    "\n",
    "class DecoderWithAttention(nn.Module):\n",
    "    def __init__(self, vocab_size, embedding_dim, encoder_dim, decoder_dim, attention_dim):\n",
    "        \"\"\"\n",
    "        Decoder with attention for image captioning.\n",
    "        Args:\n",
    "            vocab_size: Size of the vocabulary.\n",
    "            embedding_dim: Dimension of word embeddings.\n",
    "            encoder_dim: Dimension of encoder output features.\n",
    "            decoder_dim: Dimension of LSTM hidden state.\n",
    "            attention_dim: Dimension of the attention layer.\n",
    "        \"\"\"\n",
    "        super(DecoderWithAttention, self).__init__()\n",
    "        self.attention = Attention(encoder_dim, decoder_dim, attention_dim)  # Attention module\n",
    "        self.embedding = nn.Embedding(vocab_size, embedding_dim)  # Embedding layer\n",
    "        self.lstm = nn.LSTMCell(embedding_dim + encoder_dim, decoder_dim)  # LSTMCell with context\n",
    "        self.fc = nn.Linear(decoder_dim, vocab_size)  # Output layer\n",
    "        self.init_h = nn.Linear(encoder_dim, decoder_dim)  # Initialize LSTM hidden state\n",
    "        self.init_c = nn.Linear(encoder_dim, decoder_dim)  # Initialize LSTM cell state\n",
    "        self.dropout = nn.Dropout(0.5)\n",
    "\n",
    "    def forward(self, encoder_out, captions, lengths):\n",
    "        \"\"\"\n",
    "        Forward pass for the decoder with attention.\n",
    "        Args:\n",
    "            encoder_out: Encoder features (batch_size, seq_len, encoder_dim).\n",
    "            captions: Ground truth captions (batch_size, max_seq_len).\n",
    "            lengths: Caption lengths for each sample in the batch.\n",
    "        Returns:\n",
    "            predictions: Vocabulary scores (batch_size, max_seq_len, vocab_size).\n",
    "            alphas: Attention weights (batch_size, max_seq_len, seq_len).\n",
    "        \"\"\"\n",
    "        batch_size = encoder_out.size(0)\n",
    "        seq_len = encoder_out.size(1)\n",
    "        encoder_dim = encoder_out.size(2)\n",
    "        \n",
    "        # Initialize LSTM states\n",
    "        h = self.init_h(encoder_out.mean(dim=1))  # (batch_size, decoder_dim)\n",
    "        c = self.init_c(encoder_out.mean(dim=1))  # (batch_size, decoder_dim)\n",
    "        \n",
    "        # Embed captions\n",
    "        embeddings = self.embedding(captions)  # (batch_size, max_seq_len, embedding_dim)\n",
    "\n",
    "        predictions = torch.zeros(batch_size, max(lengths), self.fc.out_features).to(encoder_out.device)\n",
    "        alphas = torch.zeros(batch_size, max(lengths), seq_len).to(encoder_out.device)\n",
    "\n",
    "        for t in range(max(lengths)):\n",
    "            context, alpha = self.attention(encoder_out, h)  # Compute attention\n",
    "            lstm_input = torch.cat([embeddings[:, t, :], context], dim=1)  # Concatenate embedding and context\n",
    "            h, c = self.lstm(lstm_input, (h, c))  # LSTM step\n",
    "            preds = self.fc(self.dropout(h))  # Compute predictions\n",
    "            predictions[:, t, :] = preds\n",
    "            alphas[:, t, :] = alpha  # Store attention weights\n",
    "\n",
    "        return predictions, alphas\n",
    "\n",
    "class MultiModalModel(nn.Module):\n",
    "    def __init__(self, vocab_size, embedding_dim, embedding_matrix, hidden_dim, image_input_dim, attention_dim, output_dim):\n",
    "        super(MultiModalModel, self).__init__()\n",
    "        \n",
    "        # Text Input Branch\n",
    "        self.embedding = nn.Embedding(vocab_size, embedding_dim)\n",
    "        self.embedding.weight = nn.Parameter(torch.tensor(embedding_matrix, dtype=torch.float32))\n",
    "        self.embedding.weight.requires_grad = False  # Make embeddings non-trainable\n",
    "        \n",
    "        # Project text embeddings to hidden_dim\n",
    "        self.text_fc = nn.Linear(embedding_dim, hidden_dim)\n",
    "        \n",
    "        # Image Input Branch\n",
    "        #self.image_fc = nn.Linear(image_input_dim, hidden_dim)  # Match image_input_dim to hidden_dim\n",
    "        self.image_fc = nn.Linear(224, hidden_dim)  # Match input size of image_input\n",
    "\n",
    "        \n",
    "        # Decoder with Attention\n",
    "        self.decoder = DecoderWithAttention(\n",
    "            vocab_size=vocab_size,\n",
    "            embedding_dim=hidden_dim,  # Now using hidden_dim for consistency\n",
    "            encoder_dim=hidden_dim,\n",
    "            decoder_dim=hidden_dim,\n",
    "            attention_dim=attention_dim,\n",
    "        )\n",
    "\n",
    "    def forward(self, text_input, image_input, captions, lengths):\n",
    "        # Text Processing Path (Encoder)\n",
    "        embedded = self.text_fc(self.embedding(text_input))  # [B, seq_len, hidden_dim]\n",
    "\n",
    "        # Image Processing Path (Encoder)\n",
    "        image_features = torch.relu(self.image_fc(image_input))  # [B, hidden_dim]\n",
    "        image_features = image_features.unsqueeze(1)  # Add sequence dimension: [B, 1, hidden_dim]\n",
    "\n",
    "        print(\"embedded shape:\", embedded.shape)  # Should be [B, seq_len, hidden_dim]\n",
    "        print(\"image_features shape:\", image_features.shape)  # Should be [B, 1, hidden_dim]\n",
    "\n",
    "        # Combine Image and Text Features\n",
    "        encoder_out = torch.cat([embedded, image_features], dim=1)  # [B, seq_len + 1, hidden_dim]\n",
    "\n",
    "        # Decoder with Attention\n",
    "        predictions, alphas = self.decoder(encoder_out, captions, lengths)\n",
    "        return predictions, alphas\n"
   ]
  },
  {
   "cell_type": "markdown",
   "metadata": {},
   "source": [
    "## Training Loop"
   ]
  },
  {
   "cell_type": "code",
   "execution_count": 27,
   "metadata": {},
   "outputs": [],
   "source": [
    "def train_model(\n",
    "    model, train_dataloader, val_dataloader, optimizer, criterion, device, epochs, save_path='best_model.pth'\n",
    "):\n",
    "    epoch_train_loss = []\n",
    "    epoch_val_loss = []\n",
    "    epoch_train_acc = []\n",
    "    epoch_val_acc = []\n",
    "    best_val_loss = float('inf')\n",
    "\n",
    "    model.to(device)\n",
    "    for epoch in range(epochs):\n",
    "        print(f'EPOCH : {epoch + 1}')\n",
    "        start = time.time()\n",
    "        \n",
    "        # Training Phase\n",
    "        model.train()\n",
    "        train_loss = 0\n",
    "        correct_train = 0\n",
    "        total_train = 0\n",
    "        with tqdm(train_dataloader, desc=f\"Training Epoch {epoch + 1}\") as train_bar:\n",
    "            for img_features, reports, captions, lengths in train_bar:\n",
    "                img_features = img_features.to(device)\n",
    "                reports = reports.to(device)\n",
    "                captions = captions.to(device)\n",
    "                #lengths = torch.tensor(lengths).to(device)\n",
    "                lengths = lengths.to(device)\n",
    "\n",
    "                optimizer.zero_grad()\n",
    "                \n",
    "                # Forward pass\n",
    "                outputs, _ = model(reports, img_features, captions, lengths)  # Updated to include captions and lengths\n",
    "                outputs = outputs.view(-1, outputs.size(-1))  # Flatten predictions\n",
    "                reports = reports.view(-1)  # Flatten ground truth\n",
    "                \n",
    "                # Compute loss\n",
    "                loss = criterion(outputs, reports)\n",
    "                \n",
    "                # Backward pass with gradient clipping\n",
    "                loss.backward()\n",
    "                torch.nn.utils.clip_grad_norm_(model.parameters(), max_norm=1.0)  # Gradient clipping\n",
    "                optimizer.step()\n",
    "                \n",
    "                train_loss += loss.item()\n",
    "                \n",
    "                # Update accuracy\n",
    "                _, predicted = torch.max(outputs, dim=1)\n",
    "                correct_train += (predicted == reports).sum().item()\n",
    "                total_train += reports.size(0)\n",
    "                \n",
    "                # Update tqdm bar\n",
    "                train_bar.set_postfix(loss=loss.item(), acc=correct_train / total_train)\n",
    "\n",
    "        train_loss /= len(train_dataloader)\n",
    "        train_acc = correct_train / total_train\n",
    "        epoch_train_loss.append(train_loss)\n",
    "        epoch_train_acc.append(train_acc)\n",
    "\n",
    "        # Validation Phase\n",
    "        model.eval()\n",
    "        val_loss = 0\n",
    "        correct_val = 0\n",
    "        total_val = 0\n",
    "        with torch.no_grad():\n",
    "            with tqdm(val_dataloader, desc=f\"Validation Epoch {epoch + 1}\") as val_bar:\n",
    "                for img_features, reports, captions, lengths in val_bar:\n",
    "                    img_features = img_features.to(device)\n",
    "                    reports = reports.to(device)\n",
    "                    captions = captions.to(device)\n",
    "\n",
    "                    # Safely handle lengths\n",
    "                    if not isinstance(lengths, torch.Tensor):\n",
    "                        lengths = torch.tensor(lengths, device=device)\n",
    "                    else:\n",
    "                        lengths = lengths.to(device)\n",
    "\n",
    "                    invalid_indices = captions[(captions < 0) | (captions >= vocab_size)]\n",
    "                    # print(f\"Invalid token indices: {invalid_indices}\")\n",
    "                    # print(f\"Captions tensor: {captions}\")\n",
    "                    # print(f\"Vocabulary size: {vocab_size}\")\n",
    "                    # print(f\"Min index: {captions.min()}, Max index: {captions.max()}\")\n",
    "\n",
    "\n",
    "                    # Check indices and lengths\n",
    "                    assert torch.all((captions >= 0) & (captions < vocab_size)), \"Captions contain invalid token indices.\"\n",
    "                    assert captions.size(1) <= max_seq_len, f\"Caption length exceeds max_seq_len: {captions.size(1)} > {max_seq_len}\"\n",
    "\n",
    "                    # Forward pass for validation\n",
    "                    outputs, _ = model(reports, img_features, captions, lengths)\n",
    "\n",
    "                    # Flatten outputs and compute loss\n",
    "                    outputs = outputs.view(-1, outputs.size(-1))\n",
    "                    reports = reports.view(-1)\n",
    "                    loss = criterion(outputs, reports)\n",
    "\n",
    "                    # Update metrics\n",
    "                    val_loss += loss.item()\n",
    "                    _, predicted = torch.max(outputs, dim=1)\n",
    "                    correct_val += (predicted == reports).sum().item()\n",
    "                    total_val += reports.size(0)\n",
    "\n",
    "        val_loss /= len(val_dataloader)\n",
    "        val_acc = correct_val / total_val\n",
    "        epoch_val_loss.append(val_loss)\n",
    "        epoch_val_acc.append(val_acc)\n",
    "\n",
    "        # Save the best model based on validation loss\n",
    "        if val_loss < best_val_loss:\n",
    "            best_val_loss = val_loss\n",
    "            torch.save(model.state_dict(), save_path)\n",
    "            print(f\"Best model saved with validation loss: {val_loss:.4f}\")\n",
    "\n",
    "        print(f\"Training Loss: {train_loss:.4f}, Training Accuracy: {train_acc:.4f}\")\n",
    "        print(f\"Validation Loss: {val_loss:.4f}, Validation Accuracy: {val_acc:.4f}\")\n",
    "        print(f\"Time Taken for this Epoch: {time.time() - start:.2f} sec\")\n",
    "\n",
    "    return epoch_train_loss, epoch_val_loss, epoch_train_acc, epoch_val_acc\n"
   ]
  },
  {
   "cell_type": "code",
   "execution_count": 17,
   "metadata": {},
   "outputs": [
    {
     "name": "stdout",
     "output_type": "stream",
     "text": [
      "Updated vocab_size: 1602\n"
     ]
    }
   ],
   "source": [
    "vocab_size = len(tokenizer.word_index) + len(tokenizer.special_tokens)  # Include special tokens\n",
    "print(f\"Updated vocab_size: {vocab_size}\")\n"
   ]
  },
  {
   "cell_type": "code",
   "execution_count": 130,
   "metadata": {},
   "outputs": [
    {
     "name": "stdout",
     "output_type": "stream",
     "text": [
      "Embedding layer size: 1599\n"
     ]
    }
   ],
   "source": [
    "print(f\"Embedding layer size: {embedding_matrix.shape[0]}\")  # Should match vocab_size"
   ]
  },
  {
   "cell_type": "code",
   "execution_count": 28,
   "metadata": {},
   "outputs": [],
   "source": [
    "\n",
    "attention_dim = 256      # Set attention dimension\n",
    "embedding_dim = 300      # GloVe embedding dimension\n",
    "hidden_dim = 256         # LSTM hidden state dimension\n",
    "image_input_dim = 1024   # CheXNet feature extractor output dimension\n",
    "output_dim = vocab_size  # Output dimension (vocabulary size)"
   ]
  },
  {
   "cell_type": "code",
   "execution_count": 29,
   "metadata": {},
   "outputs": [
    {
     "name": "stderr",
     "output_type": "stream",
     "text": [
      "/tmp/ipykernel_2055641/1809422509.py:2: UserWarning: To copy construct from a tensor, it is recommended to use sourceTensor.clone().detach() or sourceTensor.clone().detach().requires_grad_(True), rather than torch.tensor(sourceTensor).\n",
      "  embedding_matrix = torch.tensor(embedding_matrix, dtype=torch.float32)\n"
     ]
    }
   ],
   "source": [
    "# Convert embedding_matrix to a PyTorch tensor\n",
    "embedding_matrix = torch.tensor(embedding_matrix, dtype=torch.float32)\n",
    "\n",
    "# Adjust embedding matrix to match vocab_size\n",
    "if embedding_matrix.shape[0] != vocab_size:\n",
    "    print(f\"Adjusting embedding matrix from {embedding_matrix.shape[0]} to {vocab_size}.\")\n",
    "    adjusted_embedding_matrix = torch.zeros(vocab_size, embedding_dim, dtype=torch.float32)\n",
    "    adjusted_embedding_matrix[:embedding_matrix.shape[0], :] = embedding_matrix  # Copy existing embeddings\n",
    "    embedding_matrix = adjusted_embedding_matrix\n"
   ]
  },
  {
   "cell_type": "code",
   "execution_count": 152,
   "metadata": {},
   "outputs": [],
   "source": [
    "# Instantiate Model\n",
    "model = MultiModalModel(\n",
    "    vocab_size=vocab_size,\n",
    "    embedding_dim=embedding_dim,\n",
    "    embedding_matrix=embedding_matrix,\n",
    "    hidden_dim=hidden_dim,\n",
    "    image_input_dim=image_input_dim,\n",
    "    attention_dim=attention_dim,\n",
    "    output_dim=output_dim\n",
    ")\n",
    "\n",
    "model = model.to(device)\n"
   ]
  },
  {
   "cell_type": "code",
   "execution_count": 32,
   "metadata": {},
   "outputs": [
    {
     "name": "stdout",
     "output_type": "stream",
     "text": [
      "EPOCH : 1\n"
     ]
    },
    {
     "name": "stderr",
     "output_type": "stream",
     "text": [
      "Training Epoch 1:   0%|          | 0/87 [00:00<?, ?it/s]"
     ]
    },
    {
     "name": "stderr",
     "output_type": "stream",
     "text": [
      "Training Epoch 1: 100%|██████████| 87/87 [02:53<00:00,  1.99s/it, acc=0.764, loss=1.15]  \n",
      "Validation Epoch 1: 100%|██████████| 18/18 [00:36<00:00,  2.01s/it]\n"
     ]
    },
    {
     "name": "stdout",
     "output_type": "stream",
     "text": [
      "Best model saved with validation loss: 1.2535\n",
      "Training Loss: 3.5627, Training Accuracy: 0.7636\n",
      "Validation Loss: 1.2535, Validation Accuracy: 0.8091\n",
      "Time Taken for this Epoch: 209.73 sec\n",
      "EPOCH : 2\n"
     ]
    },
    {
     "name": "stderr",
     "output_type": "stream",
     "text": [
      "Training Epoch 2: 100%|██████████| 87/87 [02:55<00:00,  2.01s/it, acc=0.851, loss=0.748]\n",
      "Validation Epoch 2: 100%|██████████| 18/18 [00:36<00:00,  2.01s/it]\n"
     ]
    },
    {
     "name": "stdout",
     "output_type": "stream",
     "text": [
      "Best model saved with validation loss: 0.7451\n",
      "Training Loss: 0.9304, Training Accuracy: 0.8505\n",
      "Validation Loss: 0.7451, Validation Accuracy: 0.9002\n",
      "Time Taken for this Epoch: 211.51 sec\n",
      "EPOCH : 3\n"
     ]
    },
    {
     "name": "stderr",
     "output_type": "stream",
     "text": [
      "Training Epoch 3: 100%|██████████| 87/87 [02:54<00:00,  2.01s/it, acc=0.909, loss=0.468]\n",
      "Validation Epoch 3: 100%|██████████| 18/18 [00:35<00:00,  2.00s/it]\n"
     ]
    },
    {
     "name": "stdout",
     "output_type": "stream",
     "text": [
      "Best model saved with validation loss: 0.5711\n",
      "Training Loss: 0.6489, Training Accuracy: 0.9092\n",
      "Validation Loss: 0.5711, Validation Accuracy: 0.9211\n",
      "Time Taken for this Epoch: 210.77 sec\n",
      "EPOCH : 4\n"
     ]
    },
    {
     "name": "stderr",
     "output_type": "stream",
     "text": [
      "Training Epoch 4: 100%|██████████| 87/87 [02:52<00:00,  1.99s/it, acc=0.932, loss=0.559]\n",
      "Validation Epoch 4: 100%|██████████| 18/18 [00:36<00:00,  2.05s/it]\n"
     ]
    },
    {
     "name": "stdout",
     "output_type": "stream",
     "text": [
      "Best model saved with validation loss: 0.4557\n",
      "Training Loss: 0.5088, Training Accuracy: 0.9319\n",
      "Validation Loss: 0.4557, Validation Accuracy: 0.9444\n",
      "Time Taken for this Epoch: 209.77 sec\n",
      "EPOCH : 5\n"
     ]
    },
    {
     "name": "stderr",
     "output_type": "stream",
     "text": [
      "Training Epoch 5: 100%|██████████| 87/87 [02:53<00:00,  2.00s/it, acc=0.949, loss=0.606]\n",
      "Validation Epoch 5: 100%|██████████| 18/18 [00:36<00:00,  2.04s/it]\n"
     ]
    },
    {
     "name": "stdout",
     "output_type": "stream",
     "text": [
      "Best model saved with validation loss: 0.3785\n",
      "Training Loss: 0.4142, Training Accuracy: 0.9493\n",
      "Validation Loss: 0.3785, Validation Accuracy: 0.9544\n",
      "Time Taken for this Epoch: 210.50 sec\n",
      "EPOCH : 6\n"
     ]
    },
    {
     "name": "stderr",
     "output_type": "stream",
     "text": [
      "Training Epoch 6: 100%|██████████| 87/87 [02:55<00:00,  2.01s/it, acc=0.959, loss=0.365]\n",
      "Validation Epoch 6: 100%|██████████| 18/18 [00:36<00:00,  2.00s/it]\n"
     ]
    },
    {
     "name": "stdout",
     "output_type": "stream",
     "text": [
      "Best model saved with validation loss: 0.3184\n",
      "Training Loss: 0.3431, Training Accuracy: 0.9586\n",
      "Validation Loss: 0.3184, Validation Accuracy: 0.9611\n",
      "Time Taken for this Epoch: 211.33 sec\n",
      "EPOCH : 7\n"
     ]
    },
    {
     "name": "stderr",
     "output_type": "stream",
     "text": [
      "Training Epoch 7: 100%|██████████| 87/87 [02:53<00:00,  2.00s/it, acc=0.965, loss=0.268]\n",
      "Validation Epoch 7: 100%|██████████| 18/18 [00:36<00:00,  2.02s/it]\n"
     ]
    },
    {
     "name": "stdout",
     "output_type": "stream",
     "text": [
      "Best model saved with validation loss: 0.2849\n",
      "Training Loss: 0.2905, Training Accuracy: 0.9653\n",
      "Validation Loss: 0.2849, Validation Accuracy: 0.9684\n",
      "Time Taken for this Epoch: 217.98 sec\n",
      "EPOCH : 8\n"
     ]
    },
    {
     "name": "stderr",
     "output_type": "stream",
     "text": [
      "Training Epoch 8: 100%|██████████| 87/87 [02:50<00:00,  1.96s/it, acc=0.971, loss=0.112]\n",
      "Validation Epoch 8: 100%|██████████| 18/18 [00:35<00:00,  1.99s/it]\n"
     ]
    },
    {
     "name": "stdout",
     "output_type": "stream",
     "text": [
      "Best model saved with validation loss: 0.2377\n",
      "Training Loss: 0.2486, Training Accuracy: 0.9713\n",
      "Validation Loss: 0.2377, Validation Accuracy: 0.9746\n",
      "Time Taken for this Epoch: 206.45 sec\n",
      "EPOCH : 9\n"
     ]
    },
    {
     "name": "stderr",
     "output_type": "stream",
     "text": [
      "Training Epoch 9: 100%|██████████| 87/87 [02:48<00:00,  1.94s/it, acc=0.976, loss=0.158]\n",
      "Validation Epoch 9: 100%|██████████| 18/18 [00:37<00:00,  2.09s/it]\n"
     ]
    },
    {
     "name": "stdout",
     "output_type": "stream",
     "text": [
      "Best model saved with validation loss: 0.2124\n",
      "Training Loss: 0.2179, Training Accuracy: 0.9763\n",
      "Validation Loss: 0.2124, Validation Accuracy: 0.9786\n",
      "Time Taken for this Epoch: 206.27 sec\n",
      "EPOCH : 10\n"
     ]
    },
    {
     "name": "stderr",
     "output_type": "stream",
     "text": [
      "Training Epoch 10: 100%|██████████| 87/87 [02:53<00:00,  2.00s/it, acc=0.98, loss=0.148] \n",
      "Validation Epoch 10: 100%|██████████| 18/18 [00:36<00:00,  2.00s/it]\n"
     ]
    },
    {
     "name": "stdout",
     "output_type": "stream",
     "text": [
      "Best model saved with validation loss: 0.1853\n",
      "Training Loss: 0.1922, Training Accuracy: 0.9801\n",
      "Validation Loss: 0.1853, Validation Accuracy: 0.9811\n",
      "Time Taken for this Epoch: 210.02 sec\n",
      "EPOCH : 11\n"
     ]
    },
    {
     "name": "stderr",
     "output_type": "stream",
     "text": [
      "Training Epoch 11: 100%|██████████| 87/87 [02:56<00:00,  2.02s/it, acc=0.983, loss=0.291]\n",
      "Validation Epoch 11: 100%|██████████| 18/18 [00:36<00:00,  2.02s/it]\n"
     ]
    },
    {
     "name": "stdout",
     "output_type": "stream",
     "text": [
      "Best model saved with validation loss: 0.1717\n",
      "Training Loss: 0.1723, Training Accuracy: 0.9826\n",
      "Validation Loss: 0.1717, Validation Accuracy: 0.9833\n",
      "Time Taken for this Epoch: 212.51 sec\n",
      "EPOCH : 12\n"
     ]
    },
    {
     "name": "stderr",
     "output_type": "stream",
     "text": [
      "Training Epoch 12: 100%|██████████| 87/87 [02:53<00:00,  1.99s/it, acc=0.985, loss=0.207] \n",
      "Validation Epoch 12: 100%|██████████| 18/18 [00:36<00:00,  2.03s/it]\n"
     ]
    },
    {
     "name": "stdout",
     "output_type": "stream",
     "text": [
      "Best model saved with validation loss: 0.1516\n",
      "Training Loss: 0.1537, Training Accuracy: 0.9845\n",
      "Validation Loss: 0.1516, Validation Accuracy: 0.9848\n",
      "Time Taken for this Epoch: 210.07 sec\n",
      "EPOCH : 13\n"
     ]
    },
    {
     "name": "stderr",
     "output_type": "stream",
     "text": [
      "Training Epoch 13: 100%|██████████| 87/87 [02:55<00:00,  2.02s/it, acc=0.986, loss=0.147] \n",
      "Validation Epoch 13: 100%|██████████| 18/18 [00:35<00:00,  1.98s/it]\n"
     ]
    },
    {
     "name": "stdout",
     "output_type": "stream",
     "text": [
      "Best model saved with validation loss: 0.1373\n",
      "Training Loss: 0.1381, Training Accuracy: 0.9860\n",
      "Validation Loss: 0.1373, Validation Accuracy: 0.9861\n",
      "Time Taken for this Epoch: 211.38 sec\n",
      "EPOCH : 14\n"
     ]
    },
    {
     "name": "stderr",
     "output_type": "stream",
     "text": [
      "Training Epoch 14: 100%|██████████| 87/87 [02:45<00:00,  1.90s/it, acc=0.987, loss=0.11]  \n",
      "Validation Epoch 14: 100%|██████████| 18/18 [00:33<00:00,  1.88s/it]\n"
     ]
    },
    {
     "name": "stdout",
     "output_type": "stream",
     "text": [
      "Best model saved with validation loss: 0.1368\n",
      "Training Loss: 0.1250, Training Accuracy: 0.9872\n",
      "Validation Loss: 0.1368, Validation Accuracy: 0.9875\n",
      "Time Taken for this Epoch: 199.62 sec\n",
      "EPOCH : 15\n"
     ]
    },
    {
     "name": "stderr",
     "output_type": "stream",
     "text": [
      "Training Epoch 15: 100%|██████████| 87/87 [02:42<00:00,  1.87s/it, acc=0.988, loss=0.0579]\n",
      "Validation Epoch 15: 100%|██████████| 18/18 [00:34<00:00,  1.89s/it]\n"
     ]
    },
    {
     "name": "stdout",
     "output_type": "stream",
     "text": [
      "Best model saved with validation loss: 0.1162\n",
      "Training Loss: 0.1137, Training Accuracy: 0.9882\n",
      "Validation Loss: 0.1162, Validation Accuracy: 0.9886\n",
      "Time Taken for this Epoch: 196.98 sec\n",
      "EPOCH : 16\n"
     ]
    },
    {
     "name": "stderr",
     "output_type": "stream",
     "text": [
      "Training Epoch 16: 100%|██████████| 87/87 [02:42<00:00,  1.87s/it, acc=0.989, loss=0.03]  \n",
      "Validation Epoch 16: 100%|██████████| 18/18 [00:34<00:00,  1.90s/it]\n"
     ]
    },
    {
     "name": "stdout",
     "output_type": "stream",
     "text": [
      "Best model saved with validation loss: 0.1092\n",
      "Training Loss: 0.1041, Training Accuracy: 0.9891\n",
      "Validation Loss: 0.1092, Validation Accuracy: 0.9896\n",
      "Time Taken for this Epoch: 196.80 sec\n",
      "EPOCH : 17\n"
     ]
    },
    {
     "name": "stderr",
     "output_type": "stream",
     "text": [
      "Training Epoch 17: 100%|██████████| 87/87 [02:43<00:00,  1.88s/it, acc=0.99, loss=0.0961] \n",
      "Validation Epoch 17: 100%|██████████| 18/18 [00:34<00:00,  1.90s/it]\n"
     ]
    },
    {
     "name": "stdout",
     "output_type": "stream",
     "text": [
      "Best model saved with validation loss: 0.1040\n",
      "Training Loss: 0.0967, Training Accuracy: 0.9900\n",
      "Validation Loss: 0.1040, Validation Accuracy: 0.9901\n",
      "Time Taken for this Epoch: 197.63 sec\n",
      "EPOCH : 18\n"
     ]
    },
    {
     "name": "stderr",
     "output_type": "stream",
     "text": [
      "Training Epoch 18: 100%|██████████| 87/87 [02:43<00:00,  1.88s/it, acc=0.991, loss=0.114] \n",
      "Validation Epoch 18: 100%|██████████| 18/18 [00:34<00:00,  1.90s/it]\n"
     ]
    },
    {
     "name": "stdout",
     "output_type": "stream",
     "text": [
      "Best model saved with validation loss: 0.0965\n",
      "Training Loss: 0.0896, Training Accuracy: 0.9909\n",
      "Validation Loss: 0.0965, Validation Accuracy: 0.9909\n",
      "Time Taken for this Epoch: 198.16 sec\n",
      "EPOCH : 19\n"
     ]
    },
    {
     "name": "stderr",
     "output_type": "stream",
     "text": [
      "Training Epoch 19: 100%|██████████| 87/87 [02:54<00:00,  2.00s/it, acc=0.992, loss=0.0652]\n",
      "Validation Epoch 19: 100%|██████████| 18/18 [00:35<00:00,  1.97s/it]\n"
     ]
    },
    {
     "name": "stdout",
     "output_type": "stream",
     "text": [
      "Best model saved with validation loss: 0.0914\n",
      "Training Loss: 0.0827, Training Accuracy: 0.9916\n",
      "Validation Loss: 0.0914, Validation Accuracy: 0.9914\n",
      "Time Taken for this Epoch: 209.62 sec\n",
      "EPOCH : 20\n"
     ]
    },
    {
     "name": "stderr",
     "output_type": "stream",
     "text": [
      "Training Epoch 20: 100%|██████████| 87/87 [02:52<00:00,  1.98s/it, acc=0.992, loss=0.123] \n",
      "Validation Epoch 20: 100%|██████████| 18/18 [00:36<00:00,  2.03s/it]\n"
     ]
    },
    {
     "name": "stdout",
     "output_type": "stream",
     "text": [
      "Best model saved with validation loss: 0.0828\n",
      "Training Loss: 0.0777, Training Accuracy: 0.9922\n",
      "Validation Loss: 0.0828, Validation Accuracy: 0.9921\n",
      "Time Taken for this Epoch: 209.22 sec\n"
     ]
    }
   ],
   "source": [
    "# Loss and Optimizer\n",
    "criterion = nn.CrossEntropyLoss()\n",
    "optimizer = optim.Adam(model.parameters(), lr=1e-4)\n",
    "\n",
    "# Train the Model\n",
    "epoch_train_loss, epoch_val_loss, epoch_train_acc, epoch_val_acc = train_model(model, data_loader_train, data_loader_valid, optimizer, criterion, device, EPOCHS,model_name)\n",
    "\n",
    "# Save Model Weights\n",
    "torch.save(model.state_dict(), model_name)"
   ]
  },
  {
   "cell_type": "markdown",
   "metadata": {},
   "source": [
    "## Plot Train and Validation Losses"
   ]
  },
  {
   "cell_type": "code",
   "execution_count": 33,
   "metadata": {},
   "outputs": [
    {
     "data": {
      "image/png": "[encoded data removed]",
      "text/plain": [
       "<Figure size 1200x600 with 2 Axes>"
      ]
     },
     "metadata": {},
     "output_type": "display_data"
    }
   ],
   "source": [
    "import matplotlib.pyplot as plt\n",
    "\n",
    "# Plotting Loss and Accuracy\n",
    "fig, axes = plt.subplots(1, 2, figsize=(12, 6))\n",
    "\n",
    "# Loss Plot\n",
    "axes[0].plot(epoch_train_loss, label='Training Loss', marker='o')\n",
    "axes[0].plot(epoch_val_loss, label='Validation Loss', marker='o')\n",
    "axes[0].set_title('Loss per Epoch')\n",
    "axes[0].set_xlabel('Epoch')\n",
    "axes[0].set_ylabel('Loss')\n",
    "axes[0].legend()\n",
    "axes[0].grid(True)\n",
    "\n",
    "# Accuracy Plot\n",
    "axes[1].plot(epoch_train_acc, label='Training Accuracy', marker='o')\n",
    "axes[1].plot(epoch_val_acc, label='Validation Accuracy', marker='o')\n",
    "axes[1].set_title('Accuracy per Epoch')\n",
    "axes[1].set_xlabel('Epoch')\n",
    "axes[1].set_ylabel('Accuracy')\n",
    "axes[1].legend()\n",
    "axes[1].grid(True)\n",
    "\n",
    "plt.tight_layout()\n",
    "plt.show()\n"
   ]
  },
  {
   "cell_type": "code",
   "execution_count": null,
   "metadata": {},
   "outputs": [],
   "source": [
    "# # Load the best model\n",
    "# model_name ='encoder_decoder_epoch_final1.pth'\n",
    "# model.load_state_dict(torch.load(model_name))\n",
    "# model.to(device)"
   ]
  },
  {
   "cell_type": "markdown",
   "metadata": {},
   "source": [
    "## Model Predictions"
   ]
  },
  {
   "cell_type": "code",
   "execution_count": 44,
   "metadata": {},
   "outputs": [],
   "source": [
    "def predict(model, dataloader, tokenizer, device):\n",
    "    \"\"\"\n",
    "    Generates predictions for the input data using the trained model and calculates accuracy.\n",
    "    \"\"\"\n",
    "    model.eval()\n",
    "    predictions = []\n",
    "    targets = []\n",
    "    total_correct = 0\n",
    "    total_tokens = 0\n",
    "    \n",
    "    with torch.no_grad():\n",
    "        for batch in tqdm(dataloader, desc=\"Generating Predictions\"):\n",
    "            # Unpack batch\n",
    "            img_features, reports, captions, lengths = batch\n",
    "            \n",
    "            # Move data to the same device as the model\n",
    "            img_features = img_features.to(device)\n",
    "            reports = reports.to(device)\n",
    "            captions = captions.to(device)\n",
    "            lengths = torch.tensor(lengths).to(device)\n",
    "            \n",
    "            # Forward pass\n",
    "            outputs, _ = model(reports, img_features, captions, lengths)  # Adjust call to include captions and lengths\n",
    "            \n",
    "            # Get predicted token indices\n",
    "            predicted_indices = torch.argmax(outputs, dim=2)  # [B, seq_len]\n",
    "            \n",
    "            # Decode predictions and ground truth\n",
    "            for i in range(predicted_indices.size(0)):  # Iterate over batch\n",
    "                pred_tokens = tokenizer.sequences_to_texts([predicted_indices[i].tolist()])[0]\n",
    "                target_tokens = tokenizer.sequences_to_texts([captions[i].tolist()])[0]\n",
    "                \n",
    "                predictions.append(pred_tokens)\n",
    "                targets.append(target_tokens)\n",
    "                \n",
    "            # Calculate accuracy\n",
    "            # Ignore padding tokens (<PAD>) in accuracy calculation\n",
    "            for i in range(captions.size(0)):  # Iterate over batch\n",
    "                valid_tokens = lengths[i]  # Number of non-padding tokens\n",
    "                total_correct += (predicted_indices[i, :valid_tokens] == captions[i, :valid_tokens]).sum().item()\n",
    "                total_tokens += valid_tokens\n",
    "    \n",
    "    accuracy = total_correct / total_tokens if total_tokens > 0 else 0\n",
    "    print(f\"Accuracy: {accuracy:.4f}\")\n",
    "    return predictions, targets, accuracy\n"
   ]
  },
  {
   "cell_type": "code",
   "execution_count": 45,
   "metadata": {},
   "outputs": [
    {
     "name": "stderr",
     "output_type": "stream",
     "text": [
      "Generating Predictions:   0%|          | 0/13 [00:00<?, ?it/s]/tmp/ipykernel_2055641/1405944962.py:20: UserWarning: To copy construct from a tensor, it is recommended to use sourceTensor.clone().detach() or sourceTensor.clone().detach().requires_grad_(True), rather than torch.tensor(sourceTensor).\n",
      "  lengths = torch.tensor(lengths).to(device)\n",
      "Generating Predictions: 100%|██████████| 13/13 [00:25<00:00,  2.00s/it]"
     ]
    },
    {
     "name": "stdout",
     "output_type": "stream",
     "text": [
      "Accuracy: 0.9914\n",
      "Prediction 1: startseq the cardiomediastinal silhouette within normal limits lungs are clear without areas focal consolidation no pneumothora large pleural effusion endseq\n",
      "Ground Truth 1: startseq the cardiomediastinal silhouette within normal limits lungs are clear without areas focal consolidation no pneumothora large pleural effusion endseq\n",
      "--------------------------------------------------\n",
      "Prediction 2: startseq the heart and lungs have the interval both lungs are clear and epanded heart and mediastinum normal endseq\n",
      "Ground Truth 2: startseq the heart and lungs have the interval both lungs are clear and epanded heart and mediastinum normal endseq\n",
      "--------------------------------------------------\n",
      "Prediction 3: startseq heart size and pulmonary vascularity within normal limits no focal infiltrate pneumothora pleural effusion identified endseq\n",
      "Ground Truth 3: startseq heart size and pulmonary vascularity within normal limits no focal infiltrate pneumothora pleural effusion identified endseq\n",
      "--------------------------------------------------\n",
      "Prediction 4: startseq the eamination consists frontal stable and lateral radiographs the chest frontal view appears projection the cardiomediastinal contours are within normal limits for tip no focal consolidation pleural effusion pneumothora identified there calcified granuloma the left lung base the visualized osseous structures and upper abdomen are unremarkable endseq\n",
      "Ground Truth 4: startseq the eamination consists frontal supine and lateral radiographs the chest frontal view lordotic projection the cardiomediastinal contours are within normal limits for supine film no focal consolidation pleural effusion pneumothora identified there calcified granuloma the left lung base the visualized osseous structures and upper abdomen are unremarkable endseq\n",
      "--------------------------------------------------\n",
      "Prediction 5: startseq the heart normal size the mediastinum unremarkable the lungs are clear endseq\n",
      "Ground Truth 5: startseq the heart normal size the mediastinum unremarkable the lungs are clear endseq\n",
      "--------------------------------------------------\n",
      "Test Accuracy: 0.9914\n"
     ]
    },
    {
     "name": "stderr",
     "output_type": "stream",
     "text": [
      "\n"
     ]
    }
   ],
   "source": [
    "# Predict on validation dataset\n",
    "test_predictions, test_ground_truth,test_accuracy = predict(model, data_loader_test, tokenizer, device)\n",
    "\n",
    "# Display some predictions and ground truth\n",
    "for i in range(5):\n",
    "    print(f\"Prediction {i + 1}: {test_predictions[i]}\")\n",
    "    print(f\"Ground Truth {i + 1}: {test_ground_truth[i]}\")\n",
    "    print(\"-\" * 50)\n",
    "    \n",
    "print(f\"Test Accuracy: {test_accuracy:.4f}\")"
   ]
  },
  {
   "cell_type": "markdown",
   "metadata": {},
   "source": [
    "## Evaluate Metrics"
   ]
  },
  {
   "cell_type": "code",
   "execution_count": 46,
   "metadata": {},
   "outputs": [],
   "source": [
    "\n",
    "def compute_bleu(predictions, targets):\n",
    "    \"\"\"\n",
    "    Calculates the average BLEU score for all predictions.\n",
    "    \n",
    "    Args:\n",
    "        predictions: List of predicted sentences.\n",
    "        targets: List of ground truth sentences.\n",
    "    \n",
    "    Returns:\n",
    "        avg_bleu: Average BLEU score across all predictions.\n",
    "    \"\"\"\n",
    "    scores = []\n",
    "    for pred, target in zip(predictions, targets):\n",
    "        target_tokens = target.split()\n",
    "        pred_tokens = pred.split()\n",
    "        score = sentence_bleu([target_tokens], pred_tokens)\n",
    "        scores.append(score)\n",
    "    avg_bleu = sum(scores) / len(scores)\n",
    "    return avg_bleu\n",
    "\n",
    "def compute_rouge(predictions, references):\n",
    "    \"\"\"\n",
    "    Computes ROUGE scores for the given predictions and references.\n",
    "\n",
    "    Args:\n",
    "        predictions (list): List of predicted reports (strings).\n",
    "        references (list): List of ground truth reports (strings).\n",
    "\n",
    "    Returns:\n",
    "        rouge_scores (dict): Dictionary with average ROUGE-1, ROUGE-2, and ROUGE-L scores.\n",
    "    \"\"\"\n",
    "    scorer = rouge_scorer.RougeScorer(['rouge1', 'rouge2', 'rougeL'], use_stemmer=True)\n",
    "    scores = {'rouge1': [], 'rouge2': [], 'rougeL': []}\n",
    "\n",
    "    for pred, ref in tqdm(zip(predictions, references), total=len(predictions), desc=\"Computing ROUGE\"):\n",
    "        score = scorer.score(ref, pred)\n",
    "        for key in scores.keys():\n",
    "            scores[key].append(score[key].fmeasure)  # Use F1-score as the metric\n",
    "    \n",
    "    # Average the scores across all examples\n",
    "    avg_scores = {key: sum(value) / len(value) for key, value in scores.items()}\n",
    "    return avg_scores\n"
   ]
  },
  {
   "cell_type": "code",
   "execution_count": 47,
   "metadata": {},
   "outputs": [
    {
     "name": "stderr",
     "output_type": "stream",
     "text": [
      "Computing ROUGE: 100%|██████████| 399/399 [00:00<00:00, 580.25it/s]\n"
     ]
    },
    {
     "name": "stdout",
     "output_type": "stream",
     "text": [
      "ROUGE Scores:\n",
      "ROUGE-1: 0.9683\n",
      "ROUGE-2: 0.9397\n",
      "ROUGE-L: 0.9683\n",
      "BLEU Score: 0.9264\n"
     ]
    }
   ],
   "source": [
    "# Compute ROUGE scores\n",
    "rouge_scores = compute_rouge(test_predictions, test_ground_truth)\n",
    "print(\"ROUGE Scores:\")\n",
    "print(f\"ROUGE-1: {rouge_scores['rouge1']:.4f}\")\n",
    "print(f\"ROUGE-2: {rouge_scores['rouge2']:.4f}\")\n",
    "print(f\"ROUGE-L: {rouge_scores['rougeL']:.4f}\")\n",
    "\n",
    "# Compute BLEU score\n",
    "bleu_score = compute_bleu(test_predictions, test_ground_truth)\n",
    "print(f\"BLEU Score: {bleu_score:.4f}\")"
   ]
  },
  {
   "cell_type": "code",
   "execution_count": 49,
   "metadata": {},
   "outputs": [],
   "source": [
    "def compute_f1_precision_recall(predictions, references, tokenizer):\n",
    "    \"\"\"\n",
    "    Computes F1-Score, Precision, and Recall for the predictions against the references.\n",
    "\n",
    "    Args:\n",
    "        predictions (list): List of predicted sentences (strings).\n",
    "        references (list): List of ground truth sentences (strings).\n",
    "        tokenizer: Tokenizer used in the dataset for word-index mapping.\n",
    "\n",
    "    Returns:\n",
    "        metrics (dict): Dictionary containing F1-Score, Precision, and Recall.\n",
    "    \"\"\"\n",
    "    # Flatten token-level predictions and references\n",
    "    pred_tokens = []\n",
    "    ref_tokens = []\n",
    "    pad_idx = tokenizer.word_index[\"<PAD>\"]\n",
    "\n",
    "    for pred, ref in zip(predictions, references):\n",
    "        pred_indices = [tokenizer.word_index.get(word, pad_idx) for word in pred.split()]\n",
    "        ref_indices = [tokenizer.word_index.get(word, pad_idx) for word in ref.split()]\n",
    "        \n",
    "        # Ensure both sequences have the same length\n",
    "        min_length = min(len(pred_indices), len(ref_indices))\n",
    "        pred_tokens.extend(pred_indices[:min_length])\n",
    "        ref_tokens.extend(ref_indices[:min_length])\n",
    "    \n",
    "    # Compute Precision, Recall, and F1-Score\n",
    "    precision = precision_score(ref_tokens, pred_tokens, average=\"weighted\",zero_division=0)\n",
    "    recall = recall_score(ref_tokens, pred_tokens, average=\"weighted\",zero_division=0)\n",
    "    f1 = f1_score(ref_tokens, pred_tokens, average=\"weighted\",zero_division=0)\n",
    "\n",
    "    return {\"Precision\": precision, \"Recall\": recall, \"F1-Score\": f1}\n"
   ]
  },
  {
   "cell_type": "code",
   "execution_count": 50,
   "metadata": {},
   "outputs": [
    {
     "name": "stdout",
     "output_type": "stream",
     "text": [
      "Precision: 0.8765\n",
      "Recall: 0.9130\n",
      "F1-Score: 0.8934\n"
     ]
    }
   ],
   "source": [
    "# Compute F1, Precision, and Recall\n",
    "metrics = compute_f1_precision_recall(test_predictions, test_ground_truth, tokenizer)\n",
    "print(f\"Precision: {metrics['Precision']:.4f}\")\n",
    "print(f\"Recall: {metrics['Recall']:.4f}\")\n",
    "print(f\"F1-Score: {metrics['F1-Score']:.4f}\")\n"
   ]
  },
  {
   "cell_type": "markdown",
   "metadata": {},
   "source": []
  }
 ],
 "metadata": {
  "kernelspec": {
   "display_name": "nndl",
   "language": "python",
   "name": "python3"
  },
  "language_info": {
   "codemirror_mode": {
    "name": "ipython",
    "version": 3
   },
   "file_extension": ".py",
   "mimetype": "text/x-python",
   "name": "python",
   "nbconvert_exporter": "python",
   "pygments_lexer": "ipython3",
   "version": "3.10.15"
  }
 },
 "nbformat": 4,
 "nbformat_minor": 2
}
