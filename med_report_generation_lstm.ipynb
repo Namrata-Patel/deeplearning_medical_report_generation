{
 "cells": [
  {
   "cell_type": "markdown",
   "metadata": {},
   "source": [
    "## LSTM Based Model"
   ]
  },
  {
   "cell_type": "code",
   "execution_count": 1,
   "metadata": {},
   "outputs": [],
   "source": [
    "import torch\n",
    "import torch.nn as nn\n",
    "import torchvision.models as models\n",
    "import h5py\n",
    "import time\n",
    "from tqdm import tqdm\n",
    "import torch.optim as optim\n",
    "from torch.utils.data import Dataset, DataLoader\n",
    "import pandas as pd\n",
    "import numpy as np\n",
    "import pickle\n",
    "import re\n",
    "from collections import Counter\n",
    "from torch.nn.utils.rnn import pad_sequence\n",
    "from torchvision.models import densenet121\n",
    "from rouge_score import rouge_scorer\n",
    "from sklearn.metrics import precision_score, recall_score, f1_score\n",
    "from nltk.translate.bleu_score import sentence_bleu\n",
    "import torch\n",
    "from torch.utils.data import Dataset, DataLoader\n",
    "from torchvision import transforms\n",
    "from PIL import Image\n",
    "import os\n"
   ]
  },
  {
   "cell_type": "markdown",
   "metadata": {},
   "source": [
    "## Feature Extraction using ChexNet Pretrained Weights"
   ]
  },
  {
   "cell_type": "code",
   "execution_count": 2,
   "metadata": {},
   "outputs": [
    {
     "name": "stdout",
     "output_type": "stream",
     "text": [
      "Weights loaded successfully into PyTorch DenseNet-121 model.\n",
      "Feature Vector Shape: torch.Size([1, 1024])\n"
     ]
    }
   ],
   "source": [
    "# Step 1: Load Pretrained DenseNet-121 from PyTorch\n",
    "densenet = models.densenet121(weights=None)\n",
    "state_dict = densenet.state_dict()\n",
    "\n",
    "# Step 2: Load the Keras Weights from .h5 File\n",
    "keras_weights_path = 'brucechou1983_CheXNet_Keras_0.3.0_weights.h5'\n",
    "with h5py.File(keras_weights_path, 'r') as f:\n",
    "    keras_weights = {k: np.array(v) for k, v in f.items()}\n",
    "\n",
    "# Step 3: Map Keras Weights to PyTorch Model\n",
    "def load_weights(state_dict, keras_weights):\n",
    "    for key in keras_weights.keys():\n",
    "        if 'kernel' in key or 'bias' in key:  # Identify weight types\n",
    "            pytorch_key = key.replace('kernel', 'weight').replace('bias', 'bias')\n",
    "            pytorch_key = pytorch_key.replace('/', '.')  # Adjust naming format\n",
    "            \n",
    "            if pytorch_key in state_dict:\n",
    "                weight = torch.tensor(keras_weights[key])\n",
    "                if len(weight.shape) == 4:  # For Conv weights\n",
    "                    weight = weight.permute(3, 2, 0, 1)\n",
    "                state_dict[pytorch_key] = weight\n",
    "    return state_dict\n",
    "\n",
    "# Apply Weights to PyTorch DenseNet\n",
    "state_dict = load_weights(state_dict, keras_weights)\n",
    "densenet.load_state_dict(state_dict)\n",
    "\n",
    "print(\"Weights loaded successfully into PyTorch DenseNet-121 model.\")\n",
    "\n",
    "# Step 4: Use DenseNet-121 as a Feature Extractor\n",
    "class CheXNetFeatureExtractor(nn.Module):\n",
    "    def __init__(self, densenet):\n",
    "        super(CheXNetFeatureExtractor, self).__init__()\n",
    "        self.features = densenet.features\n",
    "        self.global_avg_pool = nn.AdaptiveAvgPool2d((1, 1))  # Global Average Pooling\n",
    "    \n",
    "    def forward(self, x):\n",
    "        x = self.features(x)\n",
    "        x = self.global_avg_pool(x)\n",
    "        x = torch.flatten(x, 1)\n",
    "        return x\n",
    "\n",
    "# Instantiate Feature Extractor\n",
    "chexnet = CheXNetFeatureExtractor(densenet)\n",
    "\n",
    "# Example Input Tensor\n",
    "input_tensor = torch.randn(1, 3, 224, 224)\n",
    "output = chexnet(input_tensor)\n",
    "print(\"Feature Vector Shape:\", output.shape)  # Should be [1, 1024]\n"
   ]
  },
  {
   "cell_type": "code",
   "execution_count": 3,
   "metadata": {},
   "outputs": [
    {
     "name": "stdout",
     "output_type": "stream",
     "text": [
      "Vocabulary Size: 1429\n"
     ]
    }
   ],
   "source": [
    "# Load Dataset\n",
    "train_dataset = pd.read_csv('Train_Data.csv')\n",
    "test_dataset = pd.read_csv('Test_Data.csv')\n",
    "cv_dataset = pd.read_csv('CV_Data.csv')\n",
    "\n",
    "# Tokenize and Clean Text\n",
    "def clean_text(text):\n",
    "    text = text.lower()\n",
    "    text = re.sub(r\"[^a-z0-9\\s]\", \"\", text)\n",
    "    return text\n",
    "\n",
    "# Build Vocabulary\n",
    "def build_vocab(texts, min_freq=1):\n",
    "    counter = Counter()\n",
    "    for text in texts:\n",
    "        counter.update(clean_text(text).split())\n",
    "\n",
    "    vocab = {\"<PAD>\": 0, \"<START>\": 1, \"<END>\": 2, \"<UNK>\": 3}\n",
    "    for word, freq in counter.items():\n",
    "        if freq >= min_freq:\n",
    "            vocab[word] = len(vocab)\n",
    "    return vocab\n",
    "\n",
    "# Create Vocabulary\n",
    "vocab = build_vocab(train_dataset['Report'].values)\n",
    "vocab_size = len(vocab)\n",
    "print(\"Vocabulary Size:\", vocab_size)\n",
    "\n",
    "# Text to Sequence\n",
    "def text_to_sequence(text, vocab):\n",
    "    tokens = clean_text(text).split()\n",
    "    return [vocab.get(\"<START>\")] + [vocab.get(token, vocab[\"<UNK>\"]) for token in tokens] + [vocab.get(\"<END>\")]\n"
   ]
  },
  {
   "cell_type": "code",
   "execution_count": 4,
   "metadata": {},
   "outputs": [
    {
     "data": {
      "text/plain": [
       "((2758, 4), (399, 4), (550, 4))"
      ]
     },
     "execution_count": 4,
     "metadata": {},
     "output_type": "execute_result"
    }
   ],
   "source": [
    "train_dataset.shape, test_dataset.shape, cv_dataset.shape"
   ]
  },
  {
   "cell_type": "code",
   "execution_count": 5,
   "metadata": {},
   "outputs": [
    {
     "data": {
      "text/html": [
       "<div>\n",
       "<style scoped>\n",
       "    .dataframe tbody tr th:only-of-type {\n",
       "        vertical-align: middle;\n",
       "    }\n",
       "\n",
       "    .dataframe tbody tr th {\n",
       "        vertical-align: top;\n",
       "    }\n",
       "\n",
       "    .dataframe thead th {\n",
       "        text-align: right;\n",
       "    }\n",
       "</style>\n",
       "<table border=\"1\" class=\"dataframe\">\n",
       "  <thead>\n",
       "    <tr style=\"text-align: right;\">\n",
       "      <th></th>\n",
       "      <th>Person_id</th>\n",
       "      <th>Image1</th>\n",
       "      <th>Image2</th>\n",
       "      <th>Report</th>\n",
       "    </tr>\n",
       "  </thead>\n",
       "  <tbody>\n",
       "    <tr>\n",
       "      <th>0</th>\n",
       "      <td>CXR3690_IM-1841_0</td>\n",
       "      <td>CXR3690_IM-1841-1001.png</td>\n",
       "      <td>CXR3690_IM-1841-2001.png</td>\n",
       "      <td>startseq the heart again enlarged .  aorta tor...</td>\n",
       "    </tr>\n",
       "    <tr>\n",
       "      <th>1</th>\n",
       "      <td>CXR3691_IM-1842_0</td>\n",
       "      <td>CXR3691_IM-1842-1001.png</td>\n",
       "      <td>CXR3691_IM-1842-3003.png</td>\n",
       "      <td>startseq the heart normal size .  the mediasti...</td>\n",
       "    </tr>\n",
       "    <tr>\n",
       "      <th>2</th>\n",
       "      <td>CXR3692_IM-1843_0</td>\n",
       "      <td>CXR3692_IM-1843-1001.png</td>\n",
       "      <td>CXR3692_IM-1843-2001.png</td>\n",
       "      <td>startseq stable cardiomediastinal silhouette ....</td>\n",
       "    </tr>\n",
       "    <tr>\n",
       "      <th>3</th>\n",
       "      <td>CXR3693_IM-1844_0</td>\n",
       "      <td>CXR3693_IM-1844-1001.png</td>\n",
       "      <td>CXR3693_IM-1844-1002.png</td>\n",
       "      <td>startseq the lungs are clear bilaterally .  sp...</td>\n",
       "    </tr>\n",
       "    <tr>\n",
       "      <th>4</th>\n",
       "      <td>CXR3694_IM-1845_0</td>\n",
       "      <td>CXR3694_IM-1845-1001.png</td>\n",
       "      <td>CXR3694_IM-1845-2001.png</td>\n",
       "      <td>startseq interval removal leftsided chest tube...</td>\n",
       "    </tr>\n",
       "  </tbody>\n",
       "</table>\n",
       "</div>"
      ],
      "text/plain": [
       "           Person_id                    Image1                    Image2  \\\n",
       "0  CXR3690_IM-1841_0  CXR3690_IM-1841-1001.png  CXR3690_IM-1841-2001.png   \n",
       "1  CXR3691_IM-1842_0  CXR3691_IM-1842-1001.png  CXR3691_IM-1842-3003.png   \n",
       "2  CXR3692_IM-1843_0  CXR3692_IM-1843-1001.png  CXR3692_IM-1843-2001.png   \n",
       "3  CXR3693_IM-1844_0  CXR3693_IM-1844-1001.png  CXR3693_IM-1844-1002.png   \n",
       "4  CXR3694_IM-1845_0  CXR3694_IM-1845-1001.png  CXR3694_IM-1845-2001.png   \n",
       "\n",
       "                                              Report  \n",
       "0  startseq the heart again enlarged .  aorta tor...  \n",
       "1  startseq the heart normal size .  the mediasti...  \n",
       "2  startseq stable cardiomediastinal silhouette ....  \n",
       "3  startseq the lungs are clear bilaterally .  sp...  \n",
       "4  startseq interval removal leftsided chest tube...  "
      ]
     },
     "execution_count": 5,
     "metadata": {},
     "output_type": "execute_result"
    }
   ],
   "source": [
    "cv_dataset.head()"
   ]
  },
  {
   "cell_type": "code",
   "execution_count": 6,
   "metadata": {},
   "outputs": [],
   "source": [
    "pad_size = 153   # Max length"
   ]
  },
  {
   "cell_type": "code",
   "execution_count": 5,
   "metadata": {},
   "outputs": [],
   "source": [
    "X_train, X_test, X_cv = train_dataset['Person_id'], test_dataset['Person_id'], cv_dataset['Person_id'][:546]\n",
    "y_train, y_test, y_cv = train_dataset['Report'], test_dataset['Report'], cv_dataset['Report'][:546]"
   ]
  },
  {
   "cell_type": "markdown",
   "metadata": {},
   "source": [
    "## Custom Tokenizer "
   ]
  },
  {
   "cell_type": "code",
   "execution_count": 7,
   "metadata": {},
   "outputs": [],
   "source": [
    "import re\n",
    "from collections import Counter\n",
    "\n",
    "class CustomTokenizer:\n",
    "    def __init__(self, min_freq=1, special_tokens=[\"<PAD>\", \"<START>\", \"<END>\", \"<UNK>\"]):\n",
    "        \"\"\"\n",
    "        A custom tokenizer for converting text to token sequences and vice versa.\n",
    "        \n",
    "        Args:\n",
    "            min_freq (int): Minimum frequency for a word to be included in the vocabulary.\n",
    "            special_tokens (list): List of special tokens like <PAD>, <START>, etc.\n",
    "        \"\"\"\n",
    "        self.word_index = {}  # Word to index mapping\n",
    "        self.index_word = {}  # Index to word mapping\n",
    "        self.min_freq = min_freq\n",
    "        self.special_tokens = special_tokens\n",
    "        self.word_counter = Counter()\n",
    "\n",
    "        # Initialize special tokens\n",
    "        for idx, token in enumerate(self.special_tokens):\n",
    "            self.word_index[token] = idx\n",
    "            self.index_word[idx] = token\n",
    "\n",
    "    def fit_on_texts(self, texts):\n",
    "        \"\"\"\n",
    "        Fit the tokenizer on a list of text data to build the vocabulary.\n",
    "        \n",
    "        Args:\n",
    "            texts (list of str): List of text sequences.\n",
    "        \"\"\"\n",
    "        # Count word frequencies\n",
    "        for text in texts:\n",
    "            tokens = self._clean_and_tokenize(text)\n",
    "            self.word_counter.update(tokens)\n",
    "        \n",
    "        # Add words to the vocabulary if they meet the min_freq criteria\n",
    "        for word, freq in self.word_counter.items():\n",
    "            if freq >= self.min_freq and word not in self.word_index:\n",
    "                idx = len(self.word_index)\n",
    "                self.word_index[word] = idx\n",
    "                self.index_word[idx] = word\n",
    "\n",
    "    def texts_to_sequences(self, texts):\n",
    "        \"\"\"\n",
    "        Convert a list of texts to sequences of word indices.\n",
    "        \n",
    "        Args:\n",
    "            texts (list of str): List of text sequences.\n",
    "        \n",
    "        Returns:\n",
    "            list of list of int: List of token index sequences.\n",
    "        \"\"\"\n",
    "        sequences = []\n",
    "        for text in texts:\n",
    "            tokens = self._clean_and_tokenize(text)\n",
    "            sequence = [self.word_index.get(token, self.word_index[\"<UNK>\"]) for token in tokens]\n",
    "            sequences.append(sequence)\n",
    "        return sequences\n",
    "\n",
    "    def sequences_to_texts(self, sequences):\n",
    "        \"\"\"\n",
    "        Convert a list of sequences of word indices back to text.\n",
    "        \n",
    "        Args:\n",
    "            sequences (list of list of int): List of token index sequences.\n",
    "        \n",
    "        Returns:\n",
    "            list of str: List of text sequences.\n",
    "        \"\"\"\n",
    "        texts = []\n",
    "        for seq in sequences:\n",
    "            text = \" \".join([self.index_word.get(idx, \"<UNK>\") for idx in seq if idx != self.word_index[\"<PAD>\"]])\n",
    "            texts.append(text)\n",
    "        return texts\n",
    "\n",
    "    def _clean_and_tokenize(self, text):\n",
    "        \"\"\"\n",
    "        Clean and tokenize text into a list of words.\n",
    "        \n",
    "        Args:\n",
    "            text (str): Input text string.\n",
    "        \n",
    "        Returns:\n",
    "            list of str: List of tokens.\n",
    "        \"\"\"\n",
    "        text = text.lower()\n",
    "        text = re.sub(r\"[^a-z0-9\\s]\", \"\", text)  # Remove special characters\n",
    "        return text.split()\n",
    "\n",
    "    def __call__(self, text):\n",
    "        \"\"\"\n",
    "        Makes the tokenizer callable for a single text input.\n",
    "        \n",
    "        Args:\n",
    "            text (str): A single text sequence.\n",
    "        \n",
    "        Returns:\n",
    "            list of int: Token index sequence.\n",
    "        \"\"\"\n",
    "        tokens = self._clean_and_tokenize(text)\n",
    "        return [self.word_index.get(token, self.word_index[\"<UNK>\"]) for token in tokens]"
   ]
  },
  {
   "cell_type": "code",
   "execution_count": 8,
   "metadata": {},
   "outputs": [],
   "source": [
    "# Initialize and Fit Tokenizer\n",
    "tokenizer = CustomTokenizer()\n",
    "tokenizer.fit_on_texts(y_train.values)"
   ]
  },
  {
   "cell_type": "code",
   "execution_count": 9,
   "metadata": {},
   "outputs": [
    {
     "data": {
      "text/plain": [
       "1430"
      ]
     },
     "execution_count": 9,
     "metadata": {},
     "output_type": "execute_result"
    }
   ],
   "source": [
    "vocab_size = len(tokenizer.word_index.keys()) + 1\n",
    "vocab_size"
   ]
  },
  {
   "cell_type": "markdown",
   "metadata": {},
   "source": [
    "## Generate Embeddings using  GloVe Vectors"
   ]
  },
  {
   "cell_type": "code",
   "execution_count": 15,
   "metadata": {},
   "outputs": [
    {
     "name": "stdout",
     "output_type": "stream",
     "text": [
      "Loaded 400000 words from GloVe.\n"
     ]
    }
   ],
   "source": [
    "# Path to GloVe file\n",
    "glove_path = 'glove.6B.300d.txt'\n",
    "\n",
    "# Load GloVe Vectors into a Dictionary\n",
    "def load_glove_vectors(glove_path):\n",
    "    glove_dict = {}\n",
    "    with open(glove_path, 'r', encoding='utf-8') as f:\n",
    "        for line in f:\n",
    "            values = line.strip().split()\n",
    "            word = values[0]\n",
    "            vector = np.asarray(values[1:], dtype='float32')\n",
    "            glove_dict[word] = vector\n",
    "    return glove_dict\n",
    "\n",
    "# Load GloVe\n",
    "glove_vectors = load_glove_vectors(glove_path)\n",
    "print(f\"Loaded {len(glove_vectors)} words from GloVe.\")"
   ]
  },
  {
   "cell_type": "code",
   "execution_count": 16,
   "metadata": {},
   "outputs": [],
   "source": [
    "embedding_matrix = np.zeros((vocab_size,300))\n",
    "for word, i in tokenizer.word_index.items():\n",
    "    if word in glove_vectors.keys():\n",
    "        vec = glove_vectors[word]\n",
    "        embedding_matrix[i] = vec\n",
    "    else:\n",
    "        continue"
   ]
  },
  {
   "cell_type": "markdown",
   "metadata": {},
   "source": [
    "## Model"
   ]
  },
  {
   "cell_type": "code",
   "execution_count": 45,
   "metadata": {},
   "outputs": [],
   "source": [
    "class MultiModalModel(nn.Module):\n",
    "    def __init__(self, vocab_size, embedding_dim, embedding_matrix, hidden_dim, image_input_dim, output_dim, dropout_rate=0.5):\n",
    "        super(MultiModalModel, self).__init__()\n",
    "        \n",
    "        # Text Input Branch\n",
    "        self.embedding = nn.Embedding(vocab_size, embedding_dim)\n",
    "        self.embedding.weight = nn.Parameter(torch.tensor(embedding_matrix, dtype=torch.float32))\n",
    "        self.embedding.weight.requires_grad = False  # Make embeddings non-trainable\n",
    "        \n",
    "        self.lstm1 = nn.LSTM(embedding_dim, hidden_dim, batch_first=True, bidirectional=False)\n",
    "        self.lstm2 = nn.LSTM(hidden_dim, hidden_dim, batch_first=True, bidirectional=False)\n",
    "        \n",
    "        # Image Input Branch\n",
    "        self.image_fc = nn.Linear(image_input_dim, hidden_dim)  # Updated to match image_input_dim\n",
    "        \n",
    "        # Fusion Branch\n",
    "        self.fc1 = nn.Linear(hidden_dim, hidden_dim)\n",
    "        self.dropout1 = nn.Dropout(0.8)\n",
    "        self.dropout2 = nn.Dropout(0.6)\n",
    "        \n",
    "        # Output Layer\n",
    "        self.output = nn.Linear(hidden_dim, output_dim)\n",
    "    \n",
    "    def forward(self, text_input, image_input):\n",
    "        # Text Processing Path\n",
    "        embedded = self.embedding(text_input)  # [B, seq_len, embedding_dim]\n",
    "        lstm_out1, _ = self.lstm1(embedded)    # [B, seq_len, hidden_dim]\n",
    "        lstm_out2, _ = self.lstm2(lstm_out1)  # [B, seq_len, hidden_dim]\n",
    "        \n",
    "        # Image Processing Path\n",
    "        image_input = image_input.view(image_input.size(0), -1)  # Flatten image: [B, D]\n",
    "        image_features = torch.relu(self.image_fc(image_input))  # Linear layer: [B, hidden_dim]\n",
    "        image_features = image_features.unsqueeze(1).repeat(1, lstm_out2.size(1), 1)\n",
    "        \n",
    "        # Combine Features\n",
    "        combined_features = image_features + lstm_out2  # [B, seq_len, hidden_dim]\n",
    "        \n",
    "        # Output Predictions\n",
    "        outputs = self.output(combined_features)  # [B, seq_len, vocab_size]\n",
    "        return outputs\n"
   ]
  },
  {
   "cell_type": "code",
   "execution_count": 40,
   "metadata": {},
   "outputs": [
    {
     "name": "stdout",
     "output_type": "stream",
     "text": [
      "Output Shape: torch.Size([4, 153, 1430])\n"
     ]
    }
   ],
   "source": [
    "\n",
    "\n",
    "# Model Parameters\n",
    "#vocab_size = vocab_size          # Vocabulary Size\n",
    "embedding_dim = 300        # GloVe Embedding Dimension\n",
    "hidden_dim = 256           # Hidden Dimension for LSTMs\n",
    "image_input_dim = 1024     # Image Feature Dimension\n",
    "output_dim = vocab_size          # Output Classes (Vocabulary Size)\n",
    "\n",
    "dropout_rate = 0.5\n",
    "\n",
    "# Instantiate Model\n",
    "model = MultiModalModel(vocab_size, embedding_dim, embedding_matrix, hidden_dim, image_input_dim, output_dim, dropout_rate)\n",
    "\n",
    "# Summary\n",
    "text_input_sample = torch.randint(0, vocab_size, (4, 153))  # Batch of 4, sequence length 153\n",
    "image_input_sample = torch.randn(4, image_input_dim)        # Batch of 4, image feature dimension 2048\n",
    "\n",
    "output = model(text_input_sample, image_input_sample)\n",
    "print(\"Output Shape:\", output.shape)  # Should be [4, 1427]"
   ]
  },
  {
   "cell_type": "markdown",
   "metadata": {},
   "source": [
    "## Custom DataSet For X-Rays"
   ]
  },
  {
   "cell_type": "code",
   "execution_count": 19,
   "metadata": {},
   "outputs": [],
   "source": [
    "def load_image(id_, report):\n",
    "    '''Loads the Image Features with their corresponding Ids'''\n",
    "    img_feature = chexnet[id_.decode('utf-8')][0]\n",
    "    return img_feature, report"
   ]
  },
  {
   "cell_type": "code",
   "execution_count": 20,
   "metadata": {},
   "outputs": [],
   "source": [
    "# Image preprocessing transforms for CheXNet feature extraction\n",
    "image_transform = transforms.Compose([\n",
    "    transforms.Resize((224, 224)),\n",
    "    transforms.ToTensor(),\n",
    "    transforms.Normalize(mean=[0.485, 0.456, 0.406], std=[0.229, 0.224, 0.225])\n",
    "])\n"
   ]
  },
  {
   "cell_type": "code",
   "execution_count": 21,
   "metadata": {},
   "outputs": [],
   "source": [
    "device = torch.device(\"cuda\" if torch.cuda.is_available() else \"cpu\")"
   ]
  },
  {
   "cell_type": "code",
   "execution_count": 22,
   "metadata": {},
   "outputs": [],
   "source": [
    "class CheXNetReportDataset(Dataset):\n",
    "    def __init__(self, csv_file, root_dir, chexnet, tokenizer, transform=None, max_length=153):\n",
    "        \"\"\"\n",
    "        Args:\n",
    "            csv_file (str): Path to the CSV file containing Person_id and Report.\n",
    "            root_dir (str): Root directory containing the image files.\n",
    "            chexnet (CheXNetFeatureExtractor): Pretrained CheXNet feature extractor.\n",
    "            tokenizer (CustomTokenizer): Tokenizer for converting text to sequences.\n",
    "            transform: Image preprocessing transforms.\n",
    "            max_length (int): Maximum length of tokenized reports (padded/truncated).\n",
    "        \"\"\"\n",
    "        self.data = pd.read_csv(csv_file)\n",
    "        self.root_dir = root_dir\n",
    "        self.chexnet = chexnet\n",
    "        self.tokenizer = tokenizer\n",
    "        self.transform = transform\n",
    "        self.max_length = max_length\n",
    "\n",
    "    def __len__(self):\n",
    "        return len(self.data)\n",
    "\n",
    "    def pad_sequence(self, sequence):\n",
    "        \"\"\"Pad or truncate a tokenized sequence to the maximum length.\"\"\"\n",
    "        if len(sequence) < self.max_length:\n",
    "            sequence += [0] * (self.max_length - len(sequence))  # Pad with 0 (e.g., <PAD>)\n",
    "        else:\n",
    "            sequence = sequence[:self.max_length]\n",
    "        return sequence\n",
    "\n",
    "    def load_image(self, image_path):\n",
    "        \"\"\"Load and preprocess an image.\"\"\"\n",
    "        image = Image.open(image_path).convert(\"RGB\")\n",
    "        \n",
    "        if self.transform:\n",
    "            image = self.transform(image)\n",
    "        return image\n",
    "\n",
    "    def __getitem__(self, idx):\n",
    "        person_id = self.data.iloc[idx][\"Person_id\"]\n",
    "        report = self.data.iloc[idx][\"Report\"]\n",
    "        \n",
    "        # Append root directory to the image path\n",
    "        image_path = os.path.join(self.root_dir, self.data.iloc[idx][\"Image1\"])\n",
    "        image = self.load_image(image_path)\n",
    "        \n",
    "\n",
    "        # Extract features using CheXNet\n",
    "        with torch.no_grad():\n",
    "            img_feature = self.chexnet(image.unsqueeze(0)).squeeze(0)  # Pass through the feature extractor\n",
    "\n",
    "        # Tokenize and pad the corresponding report\n",
    "        tokenized_report = self.tokenizer(report)\n",
    "        padded_report = self.pad_sequence(tokenized_report)\n",
    "\n",
    "        return img_feature, torch.tensor(padded_report, dtype=torch.long)\n"
   ]
  },
  {
   "cell_type": "code",
   "execution_count": 25,
   "metadata": {},
   "outputs": [],
   "source": [
    "BATCH_SIZE=8\n",
    "EPOCHS = 20"
   ]
  },
  {
   "cell_type": "code",
   "execution_count": 26,
   "metadata": {},
   "outputs": [],
   "source": [
    "# DataLoader Function\n",
    "def create_dataloader(dataset, batch_size, shuffle=True):\n",
    "    return DataLoader(dataset, batch_size=batch_size, shuffle=shuffle, num_workers=2,pin_memory=True)"
   ]
  },
  {
   "cell_type": "code",
   "execution_count": 27,
   "metadata": {},
   "outputs": [],
   "source": [
    "root_dir = \"NLMCXR/images\"\n",
    "# Assuming chexnet is a preloaded dictionary and tokenizer is initialized\n",
    "dataset_train = CheXNetReportDataset(\"Train_Data.csv\",root_dir,chexnet=chexnet,tokenizer=tokenizer,transform=image_transform)\n",
    "dataset_test = CheXNetReportDataset(\"Test_Data.csv\",root_dir,chexnet=chexnet,tokenizer=tokenizer,transform=image_transform)\n",
    "dataset_valid = CheXNetReportDataset(\"CV_Data.csv\",root_dir,chexnet=chexnet,tokenizer=tokenizer,transform=image_transform)\n",
    "\n",
    "data_loader_train = create_dataloader(dataset_train, BATCH_SIZE)\n",
    "data_loader_test = create_dataloader(dataset_test, BATCH_SIZE)\n",
    "data_loader_valid = create_dataloader(dataset_valid, BATCH_SIZE)\n",
    "\n"
   ]
  },
  {
   "cell_type": "code",
   "execution_count": 28,
   "metadata": {},
   "outputs": [
    {
     "name": "stdout",
     "output_type": "stream",
     "text": [
      "Number of samples in the training dataset: 2758\n",
      "Number of samples in the validation dataset: 550\n",
      "Number of samples in the test dataset: 399\n",
      "Number of batches in the training DataLoader: 345\n",
      "Number of batches in the validation DataLoader: 69\n",
      "Number of batches in the test DataLoader: 50\n"
     ]
    }
   ],
   "source": [
    "# Print number of samples in each dataset\n",
    "print(f\"Number of samples in the training dataset: {len(dataset_train)}\")\n",
    "print(f\"Number of samples in the validation dataset: {len(dataset_valid)}\")\n",
    "print(f\"Number of samples in the test dataset: {len(dataset_test)}\")\n",
    "\n",
    "# Print number of batches in each DataLoader\n",
    "print(f\"Number of batches in the training DataLoader: {len(data_loader_train)}\")\n",
    "print(f\"Number of batches in the validation DataLoader: {len(data_loader_valid)}\")\n",
    "print(f\"Number of batches in the test DataLoader: {len(data_loader_test)}\")\n"
   ]
  },
  {
   "cell_type": "code",
   "execution_count": 29,
   "metadata": {},
   "outputs": [],
   "source": [
    "# Loss and Optimizer\n",
    "criterion = nn.CrossEntropyLoss(ignore_index=tokenizer.word_index[\"<PAD>\"])\n",
    "optimizer = optim.Adam(model.parameters(), lr=1e-4)"
   ]
  },
  {
   "cell_type": "code",
   "execution_count": 30,
   "metadata": {},
   "outputs": [],
   "source": [
    "def calculate_accuracy(predicted, target, pad_idx):\n",
    "    mask = target != pad_idx  # Exclude <PAD> tokens\n",
    "    correct = (predicted[mask] == target[mask]).sum().item()\n",
    "    total = mask.sum().item()\n",
    "    return correct / total if total > 0 else 0.0\n"
   ]
  },
  {
   "cell_type": "markdown",
   "metadata": {},
   "source": [
    "## Training Loop"
   ]
  },
  {
   "cell_type": "code",
   "execution_count": 27,
   "metadata": {},
   "outputs": [],
   "source": [
    "from tqdm import tqdm\n",
    "\n",
    "# Training Loop with TQDM\n",
    "def train_model(model, train_dataloader, val_dataloader, optimizer, criterion, device, epochs, save_path='best_model.pth'):\n",
    "    epoch_train_loss = []\n",
    "    epoch_val_loss = []\n",
    "    epoch_train_acc = []\n",
    "    epoch_val_acc = []\n",
    "    best_val_loss = float('inf')\n",
    "\n",
    "    model.to(device)\n",
    "    for epoch in range(epochs):\n",
    "        print(f'EPOCH : {epoch + 1}')\n",
    "        start = time.time()\n",
    "        \n",
    "        # Training Phase\n",
    "        model.train()\n",
    "        train_loss = 0\n",
    "        correct_train = 0\n",
    "        total_train = 0\n",
    "        with tqdm(train_dataloader, desc=f\"Training Epoch {epoch + 1}\") as train_bar:\n",
    "            for img_features, reports in train_bar:\n",
    "                img_features, reports = img_features.to(device), reports.to(device)\n",
    "                optimizer.zero_grad()\n",
    "                \n",
    "                # Forward pass\n",
    "                outputs = model(reports, img_features)\n",
    "                outputs = outputs.view(-1, outputs.size(-1))\n",
    "                reports = reports.view(-1)\n",
    "                \n",
    "                # Compute loss\n",
    "                loss = criterion(outputs, reports)\n",
    "                \n",
    "                # Backward pass with gradient clipping\n",
    "                loss.backward()\n",
    "                torch.nn.utils.clip_grad_norm_(model.parameters(), max_norm=1.0)  # Gradient clipping\n",
    "                optimizer.step()\n",
    "                \n",
    "                train_loss += loss.item()\n",
    "                \n",
    "                # Update accuracy\n",
    "                _, predicted = torch.max(outputs, dim=1)\n",
    "                correct_train += (predicted == reports).sum().item()\n",
    "                total_train += reports.size(0)\n",
    "                \n",
    "                # Update tqdm bar\n",
    "                train_bar.set_postfix(loss=loss.item(), acc=correct_train / total_train)\n",
    "\n",
    "\n",
    "        train_loss /= len(train_dataloader)\n",
    "        train_acc = correct_train / total_train\n",
    "        epoch_train_loss.append(train_loss)\n",
    "        epoch_train_acc.append(train_acc)\n",
    "\n",
    "        # Validation Phase\n",
    "        model.eval()\n",
    "        val_loss = 0\n",
    "        correct_val = 0\n",
    "        total_val = 0\n",
    "        with torch.no_grad():\n",
    "            with tqdm(val_dataloader, desc=f\"Validation Epoch {epoch + 1}\") as val_bar:\n",
    "                for img_features, reports in val_bar:\n",
    "                    img_features, reports = img_features.to(device), reports.to(device)\n",
    "                    \n",
    "                    # Forward pass for validation\n",
    "                    outputs = model(reports, img_features)\n",
    "                    outputs = outputs.view(-1, outputs.size(-1))  # [B * seq_len, vocab_size]\n",
    "                    reports = reports.view(-1)  # [B * seq_len]\n",
    "\n",
    "                    # Compute validation loss\n",
    "                    loss = criterion(outputs, reports)\n",
    "                    val_loss += loss.item()\n",
    "                    \n",
    "                    # Compute accuracy\n",
    "                    _, predicted = torch.max(outputs, dim=1)\n",
    "                    correct_val += (predicted == reports).sum().item()\n",
    "                    total_val += reports.size(0)\n",
    "                    \n",
    "                    # Update tqdm bar with loss and accuracy\n",
    "                    val_bar.set_postfix(loss=loss.item(), acc=correct_val / total_val)\n",
    "\n",
    "        val_loss /= len(val_dataloader)\n",
    "        val_acc = correct_val / total_val\n",
    "        epoch_val_loss.append(val_loss)\n",
    "        epoch_val_acc.append(val_acc)\n",
    "\n",
    "        # Save the best model based on validation loss\n",
    "        if val_loss < best_val_loss:\n",
    "            best_val_loss = val_loss\n",
    "            torch.save(model.state_dict(), save_path)\n",
    "            print(f\"Best model saved with validation loss: {val_loss:.4f}\")\n",
    "\n",
    "        print(f\"Training Loss: {train_loss:.4f}, Training Accuracy: {train_acc:.4f}\")\n",
    "        print(f\"Validation Loss: {val_loss:.4f}, Validation Accuracy: {val_acc:.4f}\")\n",
    "        print(f\"Time Taken for this Epoch: {time.time() - start:.2f} sec\")\n",
    "\n",
    "    return epoch_train_loss, epoch_val_loss, epoch_train_acc, epoch_val_acc\n"
   ]
  },
  {
   "cell_type": "code",
   "execution_count": 25,
   "metadata": {},
   "outputs": [
    {
     "data": {
      "text/plain": [
       "'20241218_211642'"
      ]
     },
     "execution_count": 25,
     "metadata": {},
     "output_type": "execute_result"
    }
   ],
   "source": [
    "from datetime import datetime\n",
    "# Get the current timestamp\n",
    "current_timestamp = datetime.now()\n",
    "# Format the timestamp without spaces or dashes (e.g., YYYYMMDD_HHMMSS)\n",
    "formatted_timestamp = current_timestamp.strftime(\"%Y%m%d_%H%M%S\")\n",
    "formatted_timestamp\n"
   ]
  },
  {
   "cell_type": "code",
   "execution_count": 26,
   "metadata": {},
   "outputs": [],
   "source": [
    "model_name = f'encoder_decoder_epoch_final_{formatted_timestamp}.pth'"
   ]
  },
  {
   "cell_type": "code",
   "execution_count": 30,
   "metadata": {},
   "outputs": [
    {
     "name": "stdout",
     "output_type": "stream",
     "text": [
      "EPOCH : 1\n"
     ]
    },
    {
     "name": "stderr",
     "output_type": "stream",
     "text": [
      "Training Epoch 1: 100%|██████████| 345/345 [02:57<00:00,  1.95it/s, acc=0.775, loss=1.22]  \n",
      "Validation Epoch 1: 100%|██████████| 69/69 [00:33<00:00,  2.06it/s, acc=0.803, loss=0.79] \n"
     ]
    },
    {
     "name": "stdout",
     "output_type": "stream",
     "text": [
      "Best model saved with validation loss: 1.0796\n",
      "Training Loss: 2.0841, Training Accuracy: 0.7750\n",
      "Validation Loss: 1.0796, Validation Accuracy: 0.8030\n",
      "Time Taken for this Epoch: 210.56 sec\n",
      "EPOCH : 2\n"
     ]
    },
    {
     "name": "stderr",
     "output_type": "stream",
     "text": [
      "Training Epoch 2: 100%|██████████| 345/345 [02:46<00:00,  2.08it/s, acc=0.819, loss=0.761]\n",
      "Validation Epoch 2: 100%|██████████| 69/69 [00:34<00:00,  2.02it/s, acc=0.823, loss=1.16] \n"
     ]
    },
    {
     "name": "stdout",
     "output_type": "stream",
     "text": [
      "Best model saved with validation loss: 0.9897\n",
      "Training Loss: 0.9880, Training Accuracy: 0.8189\n",
      "Validation Loss: 0.9897, Validation Accuracy: 0.8230\n",
      "Time Taken for this Epoch: 200.26 sec\n",
      "EPOCH : 3\n"
     ]
    },
    {
     "name": "stderr",
     "output_type": "stream",
     "text": [
      "Training Epoch 3: 100%|██████████| 345/345 [02:45<00:00,  2.08it/s, acc=0.845, loss=0.851]\n",
      "Validation Epoch 3: 100%|██████████| 69/69 [00:32<00:00,  2.10it/s, acc=0.855, loss=0.969]\n"
     ]
    },
    {
     "name": "stdout",
     "output_type": "stream",
     "text": [
      "Best model saved with validation loss: 0.8864\n",
      "Training Loss: 0.9031, Training Accuracy: 0.8455\n",
      "Validation Loss: 0.8864, Validation Accuracy: 0.8550\n",
      "Time Taken for this Epoch: 198.77 sec\n",
      "EPOCH : 4\n"
     ]
    },
    {
     "name": "stderr",
     "output_type": "stream",
     "text": [
      "Training Epoch 4: 100%|██████████| 345/345 [02:45<00:00,  2.09it/s, acc=0.869, loss=0.686]\n",
      "Validation Epoch 4: 100%|██████████| 69/69 [00:33<00:00,  2.05it/s, acc=0.876, loss=0.758]\n"
     ]
    },
    {
     "name": "stdout",
     "output_type": "stream",
     "text": [
      "Best model saved with validation loss: 0.7340\n",
      "Training Loss: 0.7757, Training Accuracy: 0.8691\n",
      "Validation Loss: 0.7340, Validation Accuracy: 0.8759\n",
      "Time Taken for this Epoch: 198.78 sec\n",
      "EPOCH : 5\n"
     ]
    },
    {
     "name": "stderr",
     "output_type": "stream",
     "text": [
      "Training Epoch 5: 100%|██████████| 345/345 [02:45<00:00,  2.09it/s, acc=0.899, loss=0.505]\n",
      "Validation Epoch 5: 100%|██████████| 69/69 [00:33<00:00,  2.04it/s, acc=0.91, loss=0.92]  \n"
     ]
    },
    {
     "name": "stdout",
     "output_type": "stream",
     "text": [
      "Best model saved with validation loss: 0.5955\n",
      "Training Loss: 0.6289, Training Accuracy: 0.8994\n",
      "Validation Loss: 0.5955, Validation Accuracy: 0.9095\n",
      "Time Taken for this Epoch: 199.20 sec\n",
      "EPOCH : 6\n"
     ]
    },
    {
     "name": "stderr",
     "output_type": "stream",
     "text": [
      "Training Epoch 6: 100%|██████████| 345/345 [02:46<00:00,  2.08it/s, acc=0.924, loss=0.268]\n",
      "Validation Epoch 6: 100%|██████████| 69/69 [00:32<00:00,  2.12it/s, acc=0.928, loss=0.458]\n"
     ]
    },
    {
     "name": "stdout",
     "output_type": "stream",
     "text": [
      "Best model saved with validation loss: 0.4869\n",
      "Training Loss: 0.5083, Training Accuracy: 0.9240\n",
      "Validation Loss: 0.4869, Validation Accuracy: 0.9280\n",
      "Time Taken for this Epoch: 198.90 sec\n",
      "EPOCH : 7\n"
     ]
    },
    {
     "name": "stderr",
     "output_type": "stream",
     "text": [
      "Training Epoch 7: 100%|██████████| 345/345 [03:17<00:00,  1.74it/s, acc=0.937, loss=0.481]\n",
      "Validation Epoch 7: 100%|██████████| 69/69 [00:42<00:00,  1.64it/s, acc=0.939, loss=0.269]\n"
     ]
    },
    {
     "name": "stdout",
     "output_type": "stream",
     "text": [
      "Best model saved with validation loss: 0.4032\n",
      "Training Loss: 0.4162, Training Accuracy: 0.9371\n",
      "Validation Loss: 0.4032, Validation Accuracy: 0.9388\n",
      "Time Taken for this Epoch: 240.14 sec\n",
      "EPOCH : 8\n"
     ]
    },
    {
     "name": "stderr",
     "output_type": "stream",
     "text": [
      "Training Epoch 8: 100%|██████████| 345/345 [03:27<00:00,  1.66it/s, acc=0.947, loss=0.23] \n",
      "Validation Epoch 8: 100%|██████████| 69/69 [00:41<00:00,  1.65it/s, acc=0.949, loss=0.346]\n"
     ]
    },
    {
     "name": "stdout",
     "output_type": "stream",
     "text": [
      "Best model saved with validation loss: 0.3369\n",
      "Training Loss: 0.3419, Training Accuracy: 0.9474\n",
      "Validation Loss: 0.3369, Validation Accuracy: 0.9485\n",
      "Time Taken for this Epoch: 249.40 sec\n",
      "EPOCH : 9\n"
     ]
    },
    {
     "name": "stderr",
     "output_type": "stream",
     "text": [
      "Training Epoch 9: 100%|██████████| 345/345 [03:28<00:00,  1.66it/s, acc=0.956, loss=0.272]\n",
      "Validation Epoch 9: 100%|██████████| 69/69 [00:42<00:00,  1.64it/s, acc=0.956, loss=0.184] \n"
     ]
    },
    {
     "name": "stdout",
     "output_type": "stream",
     "text": [
      "Best model saved with validation loss: 0.2889\n",
      "Training Loss: 0.2858, Training Accuracy: 0.9560\n",
      "Validation Loss: 0.2889, Validation Accuracy: 0.9562\n",
      "Time Taken for this Epoch: 250.25 sec\n",
      "EPOCH : 10\n"
     ]
    },
    {
     "name": "stderr",
     "output_type": "stream",
     "text": [
      "Training Epoch 10: 100%|██████████| 345/345 [03:30<00:00,  1.64it/s, acc=0.963, loss=0.283] \n",
      "Validation Epoch 10: 100%|██████████| 69/69 [00:40<00:00,  1.68it/s, acc=0.962, loss=0.239] \n"
     ]
    },
    {
     "name": "stdout",
     "output_type": "stream",
     "text": [
      "Best model saved with validation loss: 0.2535\n",
      "Training Loss: 0.2454, Training Accuracy: 0.9629\n",
      "Validation Loss: 0.2535, Validation Accuracy: 0.9619\n",
      "Time Taken for this Epoch: 251.78 sec\n",
      "EPOCH : 11\n"
     ]
    },
    {
     "name": "stderr",
     "output_type": "stream",
     "text": [
      "Training Epoch 11: 100%|██████████| 345/345 [03:28<00:00,  1.66it/s, acc=0.968, loss=0.213] \n",
      "Validation Epoch 11: 100%|██████████| 69/69 [00:40<00:00,  1.69it/s, acc=0.967, loss=0.521] \n"
     ]
    },
    {
     "name": "stdout",
     "output_type": "stream",
     "text": [
      "Best model saved with validation loss: 0.2260\n",
      "Training Loss: 0.2136, Training Accuracy: 0.9678\n",
      "Validation Loss: 0.2260, Validation Accuracy: 0.9666\n",
      "Time Taken for this Epoch: 249.36 sec\n",
      "EPOCH : 12\n"
     ]
    },
    {
     "name": "stderr",
     "output_type": "stream",
     "text": [
      "Training Epoch 12: 100%|██████████| 345/345 [03:27<00:00,  1.66it/s, acc=0.972, loss=0.105] \n",
      "Validation Epoch 12: 100%|██████████| 69/69 [00:33<00:00,  2.07it/s, acc=0.971, loss=0.173] \n"
     ]
    },
    {
     "name": "stdout",
     "output_type": "stream",
     "text": [
      "Best model saved with validation loss: 0.2011\n",
      "Training Loss: 0.1874, Training Accuracy: 0.9722\n",
      "Validation Loss: 0.2011, Validation Accuracy: 0.9705\n",
      "Time Taken for this Epoch: 241.09 sec\n",
      "EPOCH : 13\n"
     ]
    },
    {
     "name": "stderr",
     "output_type": "stream",
     "text": [
      "Training Epoch 13: 100%|██████████| 345/345 [02:39<00:00,  2.16it/s, acc=0.976, loss=0.0686]\n",
      "Validation Epoch 13: 100%|██████████| 69/69 [00:33<00:00,  2.07it/s, acc=0.974, loss=0.275] \n"
     ]
    },
    {
     "name": "stdout",
     "output_type": "stream",
     "text": [
      "Best model saved with validation loss: 0.1801\n",
      "Training Loss: 0.1653, Training Accuracy: 0.9757\n",
      "Validation Loss: 0.1801, Validation Accuracy: 0.9742\n",
      "Time Taken for this Epoch: 193.28 sec\n",
      "EPOCH : 14\n"
     ]
    },
    {
     "name": "stderr",
     "output_type": "stream",
     "text": [
      "Training Epoch 14: 100%|██████████| 345/345 [02:42<00:00,  2.13it/s, acc=0.979, loss=0.126] \n",
      "Validation Epoch 14: 100%|██████████| 69/69 [00:33<00:00,  2.08it/s, acc=0.976, loss=0.182] \n"
     ]
    },
    {
     "name": "stdout",
     "output_type": "stream",
     "text": [
      "Best model saved with validation loss: 0.1628\n",
      "Training Loss: 0.1467, Training Accuracy: 0.9787\n",
      "Validation Loss: 0.1628, Validation Accuracy: 0.9765\n",
      "Time Taken for this Epoch: 195.51 sec\n",
      "EPOCH : 15\n"
     ]
    },
    {
     "name": "stderr",
     "output_type": "stream",
     "text": [
      "Training Epoch 15: 100%|██████████| 345/345 [02:40<00:00,  2.14it/s, acc=0.981, loss=0.203] \n",
      "Validation Epoch 15: 100%|██████████| 69/69 [00:33<00:00,  2.08it/s, acc=0.979, loss=0.194] \n"
     ]
    },
    {
     "name": "stdout",
     "output_type": "stream",
     "text": [
      "Best model saved with validation loss: 0.1480\n",
      "Training Loss: 0.1308, Training Accuracy: 0.9808\n",
      "Validation Loss: 0.1480, Validation Accuracy: 0.9788\n",
      "Time Taken for this Epoch: 194.17 sec\n",
      "EPOCH : 16\n"
     ]
    },
    {
     "name": "stderr",
     "output_type": "stream",
     "text": [
      "Training Epoch 16: 100%|██████████| 345/345 [02:42<00:00,  2.13it/s, acc=0.983, loss=0.0933]\n",
      "Validation Epoch 16: 100%|██████████| 69/69 [00:32<00:00,  2.10it/s, acc=0.981, loss=0.198] \n"
     ]
    },
    {
     "name": "stdout",
     "output_type": "stream",
     "text": [
      "Best model saved with validation loss: 0.1351\n",
      "Training Loss: 0.1172, Training Accuracy: 0.9825\n",
      "Validation Loss: 0.1351, Validation Accuracy: 0.9807\n",
      "Time Taken for this Epoch: 195.18 sec\n",
      "EPOCH : 17\n"
     ]
    },
    {
     "name": "stderr",
     "output_type": "stream",
     "text": [
      "Training Epoch 17: 100%|██████████| 345/345 [02:42<00:00,  2.13it/s, acc=0.984, loss=0.0949]\n",
      "Validation Epoch 17: 100%|██████████| 69/69 [00:32<00:00,  2.10it/s, acc=0.982, loss=0.0651]\n"
     ]
    },
    {
     "name": "stdout",
     "output_type": "stream",
     "text": [
      "Best model saved with validation loss: 0.1238\n",
      "Training Loss: 0.1055, Training Accuracy: 0.9841\n",
      "Validation Loss: 0.1238, Validation Accuracy: 0.9824\n",
      "Time Taken for this Epoch: 195.13 sec\n",
      "EPOCH : 18\n"
     ]
    },
    {
     "name": "stderr",
     "output_type": "stream",
     "text": [
      "Training Epoch 18: 100%|██████████| 345/345 [02:42<00:00,  2.12it/s, acc=0.986, loss=0.0542]\n",
      "Validation Epoch 18: 100%|██████████| 69/69 [00:33<00:00,  2.09it/s, acc=0.984, loss=0.0847]\n"
     ]
    },
    {
     "name": "stdout",
     "output_type": "stream",
     "text": [
      "Best model saved with validation loss: 0.1140\n",
      "Training Loss: 0.0953, Training Accuracy: 0.9855\n",
      "Validation Loss: 0.1140, Validation Accuracy: 0.9837\n",
      "Time Taken for this Epoch: 196.02 sec\n",
      "EPOCH : 19\n"
     ]
    },
    {
     "name": "stderr",
     "output_type": "stream",
     "text": [
      "Training Epoch 19: 100%|██████████| 345/345 [02:43<00:00,  2.11it/s, acc=0.987, loss=0.0577]\n",
      "Validation Epoch 19: 100%|██████████| 69/69 [00:33<00:00,  2.09it/s, acc=0.985, loss=0.0832]\n"
     ]
    },
    {
     "name": "stdout",
     "output_type": "stream",
     "text": [
      "Best model saved with validation loss: 0.1060\n",
      "Training Loss: 0.0863, Training Accuracy: 0.9868\n",
      "Validation Loss: 0.1060, Validation Accuracy: 0.9853\n",
      "Time Taken for this Epoch: 196.30 sec\n",
      "EPOCH : 20\n"
     ]
    },
    {
     "name": "stderr",
     "output_type": "stream",
     "text": [
      "Training Epoch 20: 100%|██████████| 345/345 [02:41<00:00,  2.13it/s, acc=0.988, loss=0.0654]\n",
      "Validation Epoch 20: 100%|██████████| 69/69 [00:32<00:00,  2.10it/s, acc=0.986, loss=0.199] "
     ]
    },
    {
     "name": "stdout",
     "output_type": "stream",
     "text": [
      "Best model saved with validation loss: 0.0998\n",
      "Training Loss: 0.0784, Training Accuracy: 0.9882\n",
      "Validation Loss: 0.0998, Validation Accuracy: 0.9860\n",
      "Time Taken for this Epoch: 194.71 sec\n"
     ]
    },
    {
     "name": "stderr",
     "output_type": "stream",
     "text": [
      "\n"
     ]
    }
   ],
   "source": [
    "\n",
    "\n",
    "# Train the Model\n",
    "epoch_train_loss, epoch_val_loss, epoch_train_acc, epoch_val_acc = train_model(model, data_loader_train, data_loader_valid, optimizer, criterion, device, EPOCHS)\n",
    "\n",
    "# Save Model Weights\n",
    "torch.save(model.state_dict(), model_name)"
   ]
  },
  {
   "cell_type": "markdown",
   "metadata": {},
   "source": [
    "## Plot Train and Validation Losses"
   ]
  },
  {
   "cell_type": "code",
   "execution_count": 31,
   "metadata": {},
   "outputs": [
    {
     "data": {
      "image/png": "[encoded data removed]",
      "text/plain": [
       "<Figure size 1200x600 with 2 Axes>"
      ]
     },
     "metadata": {},
     "output_type": "display_data"
    }
   ],
   "source": [
    "import matplotlib.pyplot as plt\n",
    "\n",
    "# Plotting Loss and Accuracy\n",
    "fig, axes = plt.subplots(1, 2, figsize=(12, 6))\n",
    "\n",
    "# Loss Plot\n",
    "axes[0].plot(epoch_train_loss, label='Training Loss', marker='o')\n",
    "axes[0].plot(epoch_val_loss, label='Validation Loss', marker='o')\n",
    "axes[0].set_title('Loss per Epoch')\n",
    "axes[0].set_xlabel('Epoch')\n",
    "axes[0].set_ylabel('Loss')\n",
    "axes[0].legend()\n",
    "axes[0].grid(True)\n",
    "\n",
    "# Accuracy Plot\n",
    "axes[1].plot(epoch_train_acc, label='Training Accuracy', marker='o')\n",
    "axes[1].plot(epoch_val_acc, label='Validation Accuracy', marker='o')\n",
    "axes[1].set_title('Accuracy per Epoch')\n",
    "axes[1].set_xlabel('Epoch')\n",
    "axes[1].set_ylabel('Accuracy')\n",
    "axes[1].legend()\n",
    "axes[1].grid(True)\n",
    "\n",
    "plt.tight_layout()\n",
    "plt.show()\n"
   ]
  },
  {
   "cell_type": "code",
   "execution_count": 27,
   "metadata": {},
   "outputs": [
    {
     "name": "stderr",
     "output_type": "stream",
     "text": [
      "/tmp/ipykernel_1737725/2990672773.py:3: FutureWarning: You are using `torch.load` with `weights_only=False` (the current default value), which uses the default pickle module implicitly. It is possible to construct malicious pickle data which will execute arbitrary code during unpickling (See https://github.com/pytorch/pytorch/blob/main/SECURITY.md#untrusted-models for more details). In a future release, the default value for `weights_only` will be flipped to `True`. This limits the functions that could be executed during unpickling. Arbitrary objects will no longer be allowed to be loaded via this mode unless they are explicitly allowlisted by the user via `torch.serialization.add_safe_globals`. We recommend you start setting `weights_only=True` for any use case where you don't have full control of the loaded file. Please open an issue on GitHub for any issues related to this experimental feature.\n",
      "  model.load_state_dict(torch.load(model_name))\n"
     ]
    },
    {
     "data": {
      "text/plain": [
       "MultiModalModel(\n",
       "  (embedding): Embedding(1430, 300)\n",
       "  (lstm1): LSTM(300, 256, batch_first=True)\n",
       "  (lstm2): LSTM(256, 256, batch_first=True)\n",
       "  (image_fc): Linear(in_features=1024, out_features=256, bias=True)\n",
       "  (fc1): Linear(in_features=256, out_features=256, bias=True)\n",
       "  (dropout1): Dropout(p=0.8, inplace=False)\n",
       "  (dropout2): Dropout(p=0.6, inplace=False)\n",
       "  (output): Linear(in_features=256, out_features=1430, bias=True)\n",
       ")"
      ]
     },
     "execution_count": 27,
     "metadata": {},
     "output_type": "execute_result"
    }
   ],
   "source": [
    "# Load the best model\n",
    "model_name ='encoder_decoder_epoch_final1.pth'\n",
    "model.load_state_dict(torch.load(model_name))\n",
    "model.to(device)"
   ]
  },
  {
   "cell_type": "markdown",
   "metadata": {},
   "source": [
    "## Model Predictions"
   ]
  },
  {
   "cell_type": "code",
   "execution_count": 28,
   "metadata": {},
   "outputs": [
    {
     "name": "stderr",
     "output_type": "stream",
     "text": [
      "Generating Predictions: 100%|██████████| 69/69 [00:47<00:00,  1.44it/s]"
     ]
    },
    {
     "name": "stdout",
     "output_type": "stream",
     "text": [
      "Prediction 1: startseq lungs are clear bilaterally with no focal infiltrate pleural effusion pneumothoraces cardiomediastinal silhouette within normal limits and soft tissues are unremarkable endseq\n",
      "Ground Truth 1: startseq lungs are clear bilaterally with no focal infiltrate pleural effusion pneumothoraces cardiomediastinal silhouette within normal limits and soft tissues are unremarkable endseq\n",
      "--------------------------------------------------\n",
      "Prediction 2: startseq the heart and lungs have the interval both lungs are clear and epanded heart and mediastinum normal endseq\n",
      "Ground Truth 2: startseq the heart and lungs have the interval both lungs are clear and epanded heart and mediastinum normal endseq\n",
      "--------------------------------------------------\n",
      "Prediction 3: startseq the cardiomediastinal silhouette normal size and contour calcified left hilar lymph granulomas no focal consolidation pneumothora large pleural effusion old fracture right mid clavicle endseq\n",
      "Ground Truth 3: startseq the cardiomediastinal silhouette normal size and contour calcified left hilar lymph granulomas no focal consolidation pneumothora large pleural effusion old fracture right mid clavicle endseq\n",
      "--------------------------------------------------\n",
      "Prediction 4: startseq the cardiomediastinal silhouette normal size and configuration pulmonary vasculature within normal limits the lungs are wellaerated there no pneumothora pleural effusion focal consolidation endseq\n",
      "Ground Truth 4: startseq the cardiomediastinal silhouette normal size and configuration pulmonary vasculature within normal limits the lungs are wellaerated there no pneumothora pleural effusion focal consolidation endseq\n",
      "--------------------------------------------------\n",
      "Prediction 5: startseq no pneumothora pleural effusion airspace consolidation cardiomediastinal size within normal limits intact endseq\n",
      "Ground Truth 5: startseq no pneumothora pleural effusion airspace consolidation cardiomediastinal size within normal limits intact endseq\n",
      "--------------------------------------------------\n"
     ]
    },
    {
     "name": "stderr",
     "output_type": "stream",
     "text": [
      "\n"
     ]
    }
   ],
   "source": [
    "import torch\n",
    "from tqdm import tqdm\n",
    "\n",
    "def predict(model, dataloader, tokenizer, device):\n",
    "    \"\"\"\n",
    "    Generates predictions for the input data using the trained model.\n",
    "    \n",
    "    Args:\n",
    "        model: Trained PyTorch model.\n",
    "        dataloader: DataLoader for the test or validation dataset.\n",
    "        tokenizer: PyTorch-compatible tokenizer to map indices back to words.\n",
    "        device: Device to run the model on (e.g., \"cuda\" or \"cpu\").\n",
    "    \n",
    "    Returns:\n",
    "        predictions: List of predicted sentences (decoded).\n",
    "        targets: List of ground truth sentences (decoded).\n",
    "    \"\"\"\n",
    "    model.eval()\n",
    "    predictions = []\n",
    "    targets = []\n",
    "    \n",
    "    with torch.no_grad():\n",
    "        for img_features, reports in tqdm(dataloader, desc=\"Generating Predictions\"):\n",
    "            # Move data to the device\n",
    "            img_features, reports = img_features.to(device), reports.to(device)\n",
    "            \n",
    "            # Forward pass\n",
    "            outputs = model(reports, img_features)  # [B, seq_len, vocab_size]\n",
    "            \n",
    "            # Get predicted token indices\n",
    "            predicted_indices = torch.argmax(outputs, dim=2)  # [B, seq_len]\n",
    "            \n",
    "            # Decode predictions and ground truth\n",
    "            for i in range(predicted_indices.size(0)):  # Iterate over batch\n",
    "                # Decode predicted tokens\n",
    "                pred_tokens = tokenizer.sequences_to_texts([predicted_indices[i].tolist()])[0]\n",
    "                \n",
    "                # Decode ground truth tokens\n",
    "                target_tokens = tokenizer.sequences_to_texts([reports[i].tolist()])[0]\n",
    "                \n",
    "                # Log missing tokens\n",
    "                missing_tokens = [token for token in target_tokens.split() if token not in tokenizer.word_index]\n",
    "                if missing_tokens:\n",
    "                    print(f\"Missing tokens in tokenizer vocabulary: {missing_tokens}\")\n",
    "\n",
    "                predictions.append(pred_tokens)\n",
    "                targets.append(target_tokens)\n",
    "    \n",
    "    return predictions, targets\n",
    "\n",
    "\n",
    "#############\n",
    "\n",
    "\n",
    "# Predict on validation dataset\n",
    "valid_predictions, ground_truth = predict(model, data_loader_valid, tokenizer, device)\n",
    "\n",
    "# Display some predictions and ground truth\n",
    "for i in range(5):\n",
    "    print(f\"Prediction {i + 1}: {valid_predictions[i]}\")\n",
    "    print(f\"Ground Truth {i + 1}: {ground_truth[i]}\")\n",
    "    print(\"-\" * 50)\n"
   ]
  },
  {
   "cell_type": "markdown",
   "metadata": {},
   "source": [
    "## Evaluate Metrics"
   ]
  },
  {
   "cell_type": "code",
   "execution_count": 31,
   "metadata": {},
   "outputs": [],
   "source": [
    "def evaluate_test_accuracy(model, test_dataloader, tokenizer, device):\n",
    "    \"\"\"\n",
    "    Computes the test accuracy of the model on the given test dataset.\n",
    "\n",
    "    Args:\n",
    "        model: Trained PyTorch model.\n",
    "        test_dataloader: DataLoader for the test dataset.\n",
    "        tokenizer: Tokenizer used in the dataset.\n",
    "        device: Device to run the model on (e.g., \"cuda\" or \"cpu\").\n",
    "\n",
    "    Returns:\n",
    "        accuracy: The overall test accuracy as a float.\n",
    "    \"\"\"\n",
    "    model.eval()\n",
    "    correct = 0\n",
    "    total = 0\n",
    "    pad_idx = tokenizer.word_index[\"<PAD>\"]\n",
    "\n",
    "    with torch.no_grad():\n",
    "        for img_features, reports in tqdm(test_dataloader, desc=\"Evaluating Test Accuracy\"):\n",
    "            img_features, reports = img_features.to(device), reports.to(device)\n",
    "            \n",
    "            # Forward pass\n",
    "            outputs = model(reports, img_features)  # [B, seq_len, vocab_size]\n",
    "            predicted_indices = torch.argmax(outputs, dim=2)  # [B, seq_len]\n",
    "            \n",
    "            # Flatten predicted and true values\n",
    "            predicted_indices = predicted_indices.view(-1)  # [B * seq_len]\n",
    "            reports = reports.view(-1)  # [B * seq_len]\n",
    "\n",
    "            # Mask <PAD> tokens\n",
    "            mask = reports != pad_idx  # Exclude <PAD> tokens from accuracy\n",
    "            correct += (predicted_indices[mask] == reports[mask]).sum().item()\n",
    "            total += mask.sum().item()\n",
    "\n",
    "    accuracy = correct / total if total > 0 else 0.0\n",
    "    return accuracy\n"
   ]
  },
  {
   "cell_type": "code",
   "execution_count": 32,
   "metadata": {},
   "outputs": [
    {
     "name": "stderr",
     "output_type": "stream",
     "text": [
      "Evaluating Test Accuracy: 100%|██████████| 50/50 [00:31<00:00,  1.57it/s]"
     ]
    },
    {
     "name": "stdout",
     "output_type": "stream",
     "text": [
      "Test Accuracy: 0.9689\n"
     ]
    },
    {
     "name": "stderr",
     "output_type": "stream",
     "text": [
      "\n"
     ]
    }
   ],
   "source": [
    "# Compute test accuracy\n",
    "test_accuracy = evaluate_test_accuracy(model, data_loader_test, tokenizer, device)\n",
    "print(f\"Test Accuracy: {test_accuracy:.4f}\")"
   ]
  },
  {
   "cell_type": "markdown",
   "metadata": {},
   "source": [
    "### Evaluate Metrics"
   ]
  },
  {
   "cell_type": "code",
   "execution_count": 37,
   "metadata": {},
   "outputs": [],
   "source": [
    "\n",
    "def compute_bleu(predictions, targets):\n",
    "    \"\"\"\n",
    "    Calculates the average BLEU score for all predictions.\n",
    "    \n",
    "    Args:\n",
    "        predictions: List of predicted sentences.\n",
    "        targets: List of ground truth sentences.\n",
    "    \n",
    "    Returns:\n",
    "        avg_bleu: Average BLEU score across all predictions.\n",
    "    \"\"\"\n",
    "    scores = []\n",
    "    for pred, target in zip(predictions, targets):\n",
    "        target_tokens = target.split()\n",
    "        pred_tokens = pred.split()\n",
    "        score = sentence_bleu([target_tokens], pred_tokens)\n",
    "        scores.append(score)\n",
    "    avg_bleu = sum(scores) / len(scores)\n",
    "    return avg_bleu\n",
    "\n",
    "def compute_rouge(predictions, references):\n",
    "    \"\"\"\n",
    "    Computes ROUGE scores for the given predictions and references.\n",
    "\n",
    "    Args:\n",
    "        predictions (list): List of predicted reports (strings).\n",
    "        references (list): List of ground truth reports (strings).\n",
    "\n",
    "    Returns:\n",
    "        rouge_scores (dict): Dictionary with average ROUGE-1, ROUGE-2, and ROUGE-L scores.\n",
    "    \"\"\"\n",
    "    scorer = rouge_scorer.RougeScorer(['rouge1', 'rouge2', 'rougeL'], use_stemmer=True)\n",
    "    scores = {'rouge1': [], 'rouge2': [], 'rougeL': []}\n",
    "\n",
    "    for pred, ref in tqdm(zip(predictions, references), total=len(predictions), desc=\"Computing ROUGE\"):\n",
    "        score = scorer.score(ref, pred)\n",
    "        for key in scores.keys():\n",
    "            scores[key].append(score[key].fmeasure)  # Use F1-score as the metric\n",
    "    \n",
    "    # Average the scores across all examples\n",
    "    avg_scores = {key: sum(value) / len(value) for key, value in scores.items()}\n",
    "    return avg_scores\n"
   ]
  },
  {
   "cell_type": "code",
   "execution_count": 38,
   "metadata": {},
   "outputs": [
    {
     "name": "stderr",
     "output_type": "stream",
     "text": [
      "Generating Predictions: 100%|██████████| 50/50 [00:33<00:00,  1.51it/s]\n"
     ]
    }
   ],
   "source": [
    "# Generate predictions and ground truth reports\n",
    "test_predictions, ground_truth = predict(model, data_loader_test, tokenizer, device)"
   ]
  },
  {
   "cell_type": "code",
   "execution_count": 39,
   "metadata": {},
   "outputs": [
    {
     "name": "stdout",
     "output_type": "stream",
     "text": [
      "Prediction 1: startseq apparent scarring within the cardiomediastinal lungs are otherwise clear no pleural effusions pneumothoraces heart and mediastinum normal size and contour endseq\n",
      "Ground Truth 1: startseq apparent scarring within the lingula lungs are otherwise clear no pleural effusions pneumothoraces heart and mediastinum normal size and contour endseq\n",
      "--------------------------------------------------\n",
      "Prediction 2: startseq cardiac and mediastinal contours are within normal limits prior granulomatous disease the lungs are otherwise clear bony structures are intact endseq\n",
      "Ground Truth 2: startseq cardiac and mediastinal contours are within normal limits prior granulomatous disease the lungs are otherwise clear bony structures are intact endseq\n",
      "--------------------------------------------------\n",
      "Prediction 3: startseq heart size within normal limits there are surgical clips the left mediastinum there no pneumothora there small left pleural effusion abnormal endseq within the mediastinum represents endseq which better demonstrated the prior eamination endseq\n",
      "Ground Truth 3: startseq heart size within normal limits there are surgical clips the left mediastinum there no pneumothora there small left pleural effusion abnormal conveity within the mediastinum represents adenopathy which better demonstrated the prior endseq\n",
      "--------------------------------------------------\n",
      "Prediction 4: startseq there interstitial thickening bilaterally both prominent the bases the cardiomediastinal silhouette normal size and appearance there tortuosity no infiltrates two bullae are seen the right upper lung small calcified granuloma stable from prior eam endseq\n",
      "Ground Truth 4: startseq there interstitial thickening bilaterally more prominent the bases the cardiomediastinal silhouette normal size and appearance there hyperepansion no infiltrates two bullae are seen the right upper lung small calcified granuloma stable from prior eam endseq\n",
      "--------------------------------------------------\n",
      "Prediction 5: startseq the heart normal size the mediastinum unremarkable there no pleural effusion pneumothora focal airspace disease the are unremarkable endseq\n",
      "Ground Truth 5: startseq the heart normal size the mediastinum unremarkable there no pleural effusion pneumothora focal airspace disease the are unremarkable endseq\n",
      "--------------------------------------------------\n"
     ]
    }
   ],
   "source": [
    "# Display some predictions and ground truth\n",
    "for i in range(5):\n",
    "    print(f\"Prediction {i + 1}: {test_predictions[i]}\")\n",
    "    print(f\"Ground Truth {i + 1}: {ground_truth[i]}\")\n",
    "    print(\"-\" * 50)\n"
   ]
  },
  {
   "cell_type": "code",
   "execution_count": 34,
   "metadata": {},
   "outputs": [
    {
     "name": "stderr",
     "output_type": "stream",
     "text": [
      "Computing ROUGE:   0%|          | 0/399 [00:00<?, ?it/s]"
     ]
    },
    {
     "name": "stderr",
     "output_type": "stream",
     "text": [
      "Computing ROUGE: 100%|██████████| 399/399 [00:00<00:00, 510.71it/s]\n"
     ]
    },
    {
     "name": "stdout",
     "output_type": "stream",
     "text": [
      "ROUGE Scores:\n",
      "ROUGE-1: 0.9789\n",
      "ROUGE-2: 0.9576\n",
      "ROUGE-L: 0.9786\n",
      "BLEU Score: 0.9461\n"
     ]
    }
   ],
   "source": [
    "# Compute ROUGE scores\n",
    "rouge_scores = compute_rouge(test_predictions, ground_truth)\n",
    "print(\"ROUGE Scores:\")\n",
    "print(f\"ROUGE-1: {rouge_scores['rouge1']:.4f}\")\n",
    "print(f\"ROUGE-2: {rouge_scores['rouge2']:.4f}\")\n",
    "print(f\"ROUGE-L: {rouge_scores['rougeL']:.4f}\")\n",
    "\n",
    "# Compute BLEU score\n",
    "bleu_score = compute_bleu(test_predictions, ground_truth)\n",
    "print(f\"BLEU Score: {bleu_score:.4f}\")"
   ]
  },
  {
   "cell_type": "code",
   "execution_count": 35,
   "metadata": {},
   "outputs": [],
   "source": [
    "def compute_f1_precision_recall(predictions, references, tokenizer):\n",
    "    \"\"\"\n",
    "    Computes F1-Score, Precision, and Recall for the predictions against the references.\n",
    "\n",
    "    Args:\n",
    "        predictions (list): List of predicted sentences (strings).\n",
    "        references (list): List of ground truth sentences (strings).\n",
    "        tokenizer: Tokenizer used in the dataset for word-index mapping.\n",
    "\n",
    "    Returns:\n",
    "        metrics (dict): Dictionary containing F1-Score, Precision, and Recall.\n",
    "    \"\"\"\n",
    "    # Flatten token-level predictions and references\n",
    "    pred_tokens = []\n",
    "    ref_tokens = []\n",
    "    pad_idx = tokenizer.word_index[\"<PAD>\"]\n",
    "\n",
    "    for pred, ref in zip(predictions, references):\n",
    "        pred_indices = [tokenizer.word_index.get(word, pad_idx) for word in pred.split()]\n",
    "        ref_indices = [tokenizer.word_index.get(word, pad_idx) for word in ref.split()]\n",
    "        \n",
    "        # Ensure both sequences have the same length\n",
    "        min_length = min(len(pred_indices), len(ref_indices))\n",
    "        pred_tokens.extend(pred_indices[:min_length])\n",
    "        ref_tokens.extend(ref_indices[:min_length])\n",
    "    \n",
    "    # Compute Precision, Recall, and F1-Score\n",
    "    precision = precision_score(ref_tokens, pred_tokens, average=\"weighted\",zero_division=0)\n",
    "    recall = recall_score(ref_tokens, pred_tokens, average=\"weighted\",zero_division=0)\n",
    "    f1 = f1_score(ref_tokens, pred_tokens, average=\"weighted\",zero_division=0)\n",
    "\n",
    "    return {\"Precision\": precision, \"Recall\": recall, \"F1-Score\": f1}\n"
   ]
  },
  {
   "cell_type": "code",
   "execution_count": 36,
   "metadata": {},
   "outputs": [
    {
     "name": "stdout",
     "output_type": "stream",
     "text": [
      "Precision: 0.9419\n",
      "Recall: 0.9510\n",
      "F1-Score: 0.9453\n"
     ]
    }
   ],
   "source": [
    "# Compute F1, Precision, and Recall\n",
    "metrics = compute_f1_precision_recall(test_predictions, ground_truth, tokenizer)\n",
    "print(f\"Precision: {metrics['Precision']:.4f}\")\n",
    "print(f\"Recall: {metrics['Recall']:.4f}\")\n",
    "print(f\"F1-Score: {metrics['F1-Score']:.4f}\")\n"
   ]
  }
 ],
 "metadata": {
  "kernelspec": {
   "display_name": "nndl",
   "language": "python",
   "name": "python3"
  },
  "language_info": {
   "codemirror_mode": {
    "name": "ipython",
    "version": 3
   },
   "file_extension": ".py",
   "mimetype": "text/x-python",
   "name": "python",
   "nbconvert_exporter": "python",
   "pygments_lexer": "ipython3",
   "version": "3.10.15"
  }
 },
 "nbformat": 4,
 "nbformat_minor": 2
}
